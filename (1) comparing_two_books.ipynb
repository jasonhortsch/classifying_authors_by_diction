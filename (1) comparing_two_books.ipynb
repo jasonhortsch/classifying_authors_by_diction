{
 "cells": [
  {
   "cell_type": "code",
   "execution_count": 214,
   "metadata": {
    "collapsed": false
   },
   "outputs": [],
   "source": [
    "import nltk\n",
    "%matplotlib inline\n",
    "import numpy as np\n",
    "import pandas as pd\n",
    "from sklearn import svm\n",
    "import matplotlib.pyplot as plt\n",
    "from sklearn.cross_validation import KFold\n",
    "from sklearn.grid_search import GridSearchCV\n",
    "from sklearn.metrics import classification_report\n",
    "from sklearn.cross_validation import cross_val_score\n",
    "from sklearn.cross_validation import train_test_split\n",
    "from sklearn.feature_extraction.text import TfidfVectorizer"
   ]
  },
  {
   "cell_type": "markdown",
   "metadata": {},
   "source": [
    "## Import Books and Check Lengths"
   ]
  },
  {
   "cell_type": "code",
   "execution_count": 5,
   "metadata": {
    "collapsed": true
   },
   "outputs": [],
   "source": [
    "with open('dickens/david_copperfield.txt','r') as txt:\n",
    "    contents = txt.read()\n",
    "    contents = contents.decode('utf-8')\n",
    "    david_copperfield = contents.lower()"
   ]
  },
  {
   "cell_type": "code",
   "execution_count": 165,
   "metadata": {
    "collapsed": false
   },
   "outputs": [
    {
     "data": {
      "text/plain": [
       "1968607"
      ]
     },
     "execution_count": 165,
     "metadata": {},
     "output_type": "execute_result"
    }
   ],
   "source": [
    "len(david_copperfield)"
   ]
  },
  {
   "cell_type": "code",
   "execution_count": 7,
   "metadata": {
    "collapsed": false
   },
   "outputs": [],
   "source": [
    "with open('dickens/christmas_carol.txt','r') as txt:\n",
    "    contents = txt.read()\n",
    "    contents = contents.decode('utf-8')\n",
    "    christmas_carol = contents.lower()"
   ]
  },
  {
   "cell_type": "code",
   "execution_count": 8,
   "metadata": {
    "collapsed": false
   },
   "outputs": [
    {
     "data": {
      "text/plain": [
       "161714"
      ]
     },
     "execution_count": 8,
     "metadata": {},
     "output_type": "execute_result"
    }
   ],
   "source": [
    "len(christmas_carol)"
   ]
  },
  {
   "cell_type": "code",
   "execution_count": 9,
   "metadata": {
    "collapsed": true
   },
   "outputs": [],
   "source": [
    "with open('dickens/great_expectations.txt','r') as txt:\n",
    "    contents = txt.read()\n",
    "    contents = contents.decode('utf-8')\n",
    "    great_expectations = contents.lower()"
   ]
  },
  {
   "cell_type": "code",
   "execution_count": 10,
   "metadata": {
    "collapsed": false
   },
   "outputs": [
    {
     "data": {
      "text/plain": [
       "1013793"
      ]
     },
     "execution_count": 10,
     "metadata": {},
     "output_type": "execute_result"
    }
   ],
   "source": [
    "len(great_expectations)"
   ]
  },
  {
   "cell_type": "code",
   "execution_count": 11,
   "metadata": {
    "collapsed": true
   },
   "outputs": [],
   "source": [
    "with open('dickens/oliver_twist.txt','r') as txt:\n",
    "    contents = txt.read()\n",
    "    contents = contents.decode('utf-8')\n",
    "    oliver_twist = contents.lower()"
   ]
  },
  {
   "cell_type": "code",
   "execution_count": 12,
   "metadata": {
    "collapsed": false
   },
   "outputs": [
    {
     "data": {
      "text/plain": [
       "910807"
      ]
     },
     "execution_count": 12,
     "metadata": {},
     "output_type": "execute_result"
    }
   ],
   "source": [
    "len(oliver_twist)"
   ]
  },
  {
   "cell_type": "code",
   "execution_count": 13,
   "metadata": {
    "collapsed": false
   },
   "outputs": [],
   "source": [
    "with open('dickens/a_tale_of_two_cities2.txt','r') as txt:\n",
    "    contents = txt.read()\n",
    "    contents = contents.decode('utf-8')\n",
    "    tale_of_two_cities = contents.lower()"
   ]
  },
  {
   "cell_type": "code",
   "execution_count": 14,
   "metadata": {
    "collapsed": false
   },
   "outputs": [
    {
     "data": {
      "text/plain": [
       "771153"
      ]
     },
     "execution_count": 14,
     "metadata": {},
     "output_type": "execute_result"
    }
   ],
   "source": [
    "len(tale_of_two_cities)"
   ]
  },
  {
   "cell_type": "code",
   "execution_count": 15,
   "metadata": {
    "collapsed": true
   },
   "outputs": [],
   "source": [
    "with open('doyle/adventures_of_sherlock_holmes.txt','r') as txt:\n",
    "    contents = txt.read()\n",
    "    contents = contents.decode('utf-8')\n",
    "    adventures_of_sherlock_holmes = contents.lower()"
   ]
  },
  {
   "cell_type": "code",
   "execution_count": 16,
   "metadata": {
    "collapsed": false
   },
   "outputs": [
    {
     "data": {
      "text/plain": [
       "574456"
      ]
     },
     "execution_count": 16,
     "metadata": {},
     "output_type": "execute_result"
    }
   ],
   "source": [
    "len(adventures_of_sherlock_holmes)"
   ]
  },
  {
   "cell_type": "code",
   "execution_count": 17,
   "metadata": {
    "collapsed": true
   },
   "outputs": [],
   "source": [
    "with open('doyle/hound_of_the_baskervilles.txt','r') as txt:\n",
    "    contents = txt.read()\n",
    "    contents = contents.decode('utf-8')\n",
    "    hound_of_the_baskervilles = contents.lower()"
   ]
  },
  {
   "cell_type": "code",
   "execution_count": 18,
   "metadata": {
    "collapsed": false
   },
   "outputs": [
    {
     "data": {
      "text/plain": [
       "326505"
      ]
     },
     "execution_count": 18,
     "metadata": {},
     "output_type": "execute_result"
    }
   ],
   "source": [
    "len(hound_of_the_baskervilles)"
   ]
  },
  {
   "cell_type": "code",
   "execution_count": 19,
   "metadata": {
    "collapsed": true
   },
   "outputs": [],
   "source": [
    "with open('doyle/memoirs_of_sherlock_holmes.txt','r') as txt:\n",
    "    contents = txt.read()\n",
    "    contents = contents.decode('utf-8')\n",
    "    memoirs_of_sherlock_holmes = contents.lower()"
   ]
  },
  {
   "cell_type": "code",
   "execution_count": 20,
   "metadata": {
    "collapsed": false
   },
   "outputs": [
    {
     "data": {
      "text/plain": [
       "482873"
      ]
     },
     "execution_count": 20,
     "metadata": {},
     "output_type": "execute_result"
    }
   ],
   "source": [
    "len(memoirs_of_sherlock_holmes)"
   ]
  },
  {
   "cell_type": "code",
   "execution_count": 21,
   "metadata": {
    "collapsed": true
   },
   "outputs": [],
   "source": [
    "with open('doyle/return_of_sherlock_holmes.txt','r') as txt:\n",
    "    contents = txt.read()\n",
    "    contents = contents.decode('utf-8')\n",
    "    return_of_sherlock_holmes = contents.lower()"
   ]
  },
  {
   "cell_type": "code",
   "execution_count": 22,
   "metadata": {
    "collapsed": false
   },
   "outputs": [
    {
     "data": {
      "text/plain": [
       "621091"
      ]
     },
     "execution_count": 22,
     "metadata": {},
     "output_type": "execute_result"
    }
   ],
   "source": [
    "len(return_of_sherlock_holmes)"
   ]
  },
  {
   "cell_type": "code",
   "execution_count": 23,
   "metadata": {
    "collapsed": true
   },
   "outputs": [],
   "source": [
    "with open('doyle/sign_of_four.txt','r') as txt:\n",
    "    contents = txt.read()\n",
    "    contents = contents.decode('utf-8')\n",
    "    sign_of_four = contents.lower()"
   ]
  },
  {
   "cell_type": "code",
   "execution_count": 24,
   "metadata": {
    "collapsed": false
   },
   "outputs": [
    {
     "data": {
      "text/plain": [
       "237817"
      ]
     },
     "execution_count": 24,
     "metadata": {},
     "output_type": "execute_result"
    }
   ],
   "source": [
    "len(sign_of_four)"
   ]
  },
  {
   "cell_type": "code",
   "execution_count": 25,
   "metadata": {
    "collapsed": true
   },
   "outputs": [],
   "source": [
    "with open('doyle/study_in_scarlet.txt','r') as txt:\n",
    "    contents = txt.read()\n",
    "    contents = contents.decode('utf-8')\n",
    "    study_in_scarlet = contents.lower()"
   ]
  },
  {
   "cell_type": "code",
   "execution_count": 26,
   "metadata": {
    "collapsed": false
   },
   "outputs": [
    {
     "data": {
      "text/plain": [
       "243836"
      ]
     },
     "execution_count": 26,
     "metadata": {},
     "output_type": "execute_result"
    }
   ],
   "source": [
    "len(study_in_scarlet)"
   ]
  },
  {
   "cell_type": "markdown",
   "metadata": {},
   "source": [
    "Munging issues: header at the top, not one, but two footers at the bottom, and inconsistent encoding. Ultimately just decoding everything was the route I decided to go down for simplicity."
   ]
  },
  {
   "cell_type": "markdown",
   "metadata": {},
   "source": [
    "## Tokenize My Books (Use Built-In NLTK Tokenizer)"
   ]
  },
  {
   "cell_type": "code",
   "execution_count": 27,
   "metadata": {
    "collapsed": true
   },
   "outputs": [],
   "source": [
    "def tokenize(text):\n",
    "    tokens = nltk.word_tokenize(text)\n",
    "    return tokens"
   ]
  },
  {
   "cell_type": "code",
   "execution_count": 28,
   "metadata": {
    "collapsed": true
   },
   "outputs": [],
   "source": [
    "acc = tokenize(christmas_carol)\n",
    "dc = tokenize(david_copperfield)\n",
    "ge = tokenize(great_expectations)"
   ]
  },
  {
   "cell_type": "code",
   "execution_count": 29,
   "metadata": {
    "collapsed": true
   },
   "outputs": [],
   "source": [
    "ot = tokenize(oliver_twist)\n",
    "atotc = tokenize(tale_of_two_cities)"
   ]
  },
  {
   "cell_type": "code",
   "execution_count": 30,
   "metadata": {
    "collapsed": true
   },
   "outputs": [],
   "source": [
    "aosh = tokenize(adventures_of_sherlock_holmes)"
   ]
  },
  {
   "cell_type": "code",
   "execution_count": 31,
   "metadata": {
    "collapsed": false
   },
   "outputs": [],
   "source": [
    "asis = tokenize(study_in_scarlet)\n",
    "tsof = tokenize(sign_of_four)\n",
    "rosh = tokenize(return_of_sherlock_holmes)\n",
    "mosh = tokenize(memoirs_of_sherlock_holmes)\n",
    "hotb = tokenize(hound_of_the_baskervilles)"
   ]
  },
  {
   "cell_type": "markdown",
   "metadata": {},
   "source": [
    "I did not normalize my tokens. I am actually personally very uncomfortable with that level of alteration of someone's work. I have spent literally five minutes deciding a single word in a 2000 word essay, because whatever word I choose has to mean exactly what I am trying to convey. I may have to get over this as I get farther into NLP work, but especially in this case, that of using established literature, I did not want to turn 'is' and 'was' into 'be.' Or dogs into dog. That's not how the author wrote it or intended it to be understood."
   ]
  },
  {
   "cell_type": "markdown",
   "metadata": {},
   "source": [
    "### Check the Token Lengths"
   ]
  },
  {
   "cell_type": "code",
   "execution_count": 32,
   "metadata": {
    "collapsed": false,
    "scrolled": true
   },
   "outputs": [
    {
     "name": "stdout",
     "output_type": "stream",
     "text": [
      "Tokens in: acc 35659\n",
      "Tokens in: dc 431374\n",
      "Tokens in: ge 225422\n",
      "Tokens in: ot 193897\n",
      "Tokens in: atotc 166258\n",
      "Tokens in: aosh 125571\n",
      "Tokens in: asis 51501\n",
      "Tokens in: tsof 51615\n",
      "Tokens in: rosh 134861\n",
      "Tokens in: mosh 104626\n",
      "Tokens in: hotb 69961\n"
     ]
    }
   ],
   "source": [
    "print \"Tokens in: acc\", len(acc)\n",
    "print \"Tokens in: dc\", len(dc)\n",
    "print \"Tokens in: ge\", len(ge)\n",
    "print \"Tokens in: ot\", len(ot)\n",
    "print \"Tokens in: atotc\", len(atotc)\n",
    "print \"Tokens in: aosh\", len(aosh)\n",
    "print \"Tokens in: asis\", len(asis)\n",
    "print \"Tokens in: tsof\", len(tsof)\n",
    "print \"Tokens in: rosh\", len(rosh)\n",
    "print \"Tokens in: mosh\", len(mosh)\n",
    "print \"Tokens in: hotb\", len(hotb)"
   ]
  },
  {
   "cell_type": "code",
   "execution_count": 216,
   "metadata": {
    "collapsed": true
   },
   "outputs": [],
   "source": [
    "dickens_total = 35659 + 431374 + 225422 + 193897 + 166258\n",
    "doyle_total = 125571 + 51501 + 51615 + 134861 + 104626 + 69961"
   ]
  },
  {
   "cell_type": "code",
   "execution_count": 209,
   "metadata": {
    "collapsed": true
   },
   "outputs": [],
   "source": [
    "d = {'acc': 35659, 'dc': 431374, 'ge': 225422, 'ot': 193897, 'atotc': 166258,\n",
    "'aosh': 125571, 'asis': 51501, 'tsof': 51615, 'rosh': 134861, 'mosh': 104626,\n",
    "'hotb': 69961}"
   ]
  },
  {
   "cell_type": "code",
   "execution_count": 211,
   "metadata": {
    "collapsed": true
   },
   "outputs": [],
   "source": [
    "authors = np.array([\"dickens\", \"doyle\", \"doyle\", \"dickens\", \"dickens\", \"dickens\", \"doyle\", \n",
    "                   \"doyle\", \"dickens\", \"doyle\", \"doyle\"])"
   ]
  },
  {
   "cell_type": "code",
   "execution_count": 212,
   "metadata": {
    "collapsed": false
   },
   "outputs": [
    {
     "data": {
      "text/html": [
       "<div>\n",
       "<table border=\"1\" class=\"dataframe\">\n",
       "  <thead>\n",
       "    <tr style=\"text-align: right;\">\n",
       "      <th></th>\n",
       "      <th>length</th>\n",
       "      <th>author</th>\n",
       "    </tr>\n",
       "  </thead>\n",
       "  <tbody>\n",
       "    <tr>\n",
       "      <th>acc</th>\n",
       "      <td>35659</td>\n",
       "      <td>dickens</td>\n",
       "    </tr>\n",
       "    <tr>\n",
       "      <th>aosh</th>\n",
       "      <td>125571</td>\n",
       "      <td>doyle</td>\n",
       "    </tr>\n",
       "    <tr>\n",
       "      <th>asis</th>\n",
       "      <td>51501</td>\n",
       "      <td>doyle</td>\n",
       "    </tr>\n",
       "    <tr>\n",
       "      <th>atotc</th>\n",
       "      <td>166258</td>\n",
       "      <td>dickens</td>\n",
       "    </tr>\n",
       "    <tr>\n",
       "      <th>dc</th>\n",
       "      <td>431374</td>\n",
       "      <td>dickens</td>\n",
       "    </tr>\n",
       "    <tr>\n",
       "      <th>ge</th>\n",
       "      <td>225422</td>\n",
       "      <td>dickens</td>\n",
       "    </tr>\n",
       "    <tr>\n",
       "      <th>hotb</th>\n",
       "      <td>69961</td>\n",
       "      <td>doyle</td>\n",
       "    </tr>\n",
       "    <tr>\n",
       "      <th>mosh</th>\n",
       "      <td>104626</td>\n",
       "      <td>doyle</td>\n",
       "    </tr>\n",
       "    <tr>\n",
       "      <th>ot</th>\n",
       "      <td>193897</td>\n",
       "      <td>dickens</td>\n",
       "    </tr>\n",
       "    <tr>\n",
       "      <th>rosh</th>\n",
       "      <td>134861</td>\n",
       "      <td>doyle</td>\n",
       "    </tr>\n",
       "    <tr>\n",
       "      <th>tsof</th>\n",
       "      <td>51615</td>\n",
       "      <td>doyle</td>\n",
       "    </tr>\n",
       "  </tbody>\n",
       "</table>\n",
       "</div>"
      ],
      "text/plain": [
       "       length   author\n",
       "acc     35659  dickens\n",
       "aosh   125571    doyle\n",
       "asis    51501    doyle\n",
       "atotc  166258  dickens\n",
       "dc     431374  dickens\n",
       "ge     225422  dickens\n",
       "hotb    69961    doyle\n",
       "mosh   104626    doyle\n",
       "ot     193897  dickens\n",
       "rosh   134861    doyle\n",
       "tsof    51615    doyle"
      ]
     },
     "execution_count": 212,
     "metadata": {},
     "output_type": "execute_result"
    }
   ],
   "source": [
    "length_Series = pd.Series(d)\n",
    "mini_df = pd.DataFrame(length_Series)\n",
    "mini_df.rename(columns={0: 'length'}, inplace=True)\n",
    "mini_df['author'] = authors\n",
    "mini_df"
   ]
  },
  {
   "cell_type": "code",
   "execution_count": 215,
   "metadata": {
    "collapsed": false
   },
   "outputs": [
    {
     "data": {
      "image/png": "[encoded data removed]",
      "text/plain": [
       "<matplotlib.figure.Figure at 0x11fd98310>"
      ]
     },
     "metadata": {},
     "output_type": "display_data"
    }
   ],
   "source": [
    "mini_df['length'].plot(kind='bar');\n",
    "plt.title(\"Book Token Counts\");"
   ]
  },
  {
   "cell_type": "markdown",
   "metadata": {},
   "source": [
    "Figure to show the lengths of each book compared to each other. This was to give myself and my audience of how long the books were relative to each other."
   ]
  },
  {
   "cell_type": "code",
   "execution_count": 217,
   "metadata": {
    "collapsed": false
   },
   "outputs": [
    {
     "data": {
      "image/png": "[encoded data removed]",
      "text/plain": [
       "<matplotlib.figure.Figure at 0x10a3dc8d0>"
      ]
     },
     "metadata": {},
     "output_type": "display_data"
    }
   ],
   "source": [
    "# https://pythonspot.com/matplotlib-pie-chart/\n",
    "\n",
    "labels = 'Dickens', 'Doyle'\n",
    "sizes = [dickens_total, doyle_total]\n",
    "colors = ['red', 'lightskyblue']\n",
    " \n",
    "plt.figure(figsize = (6,6))\n",
    "\n",
    "plt.pie(sizes, labels=labels, colors=colors,\n",
    "        autopct='%1.1f%%', shadow=True, startangle=140)\n",
    "\n",
    "# http://stackoverflow.com/questions/12750355/python-matplotlib-figure-title-overlaps-axes-label-when-using-twiny\n",
    "plt.title(\"Percent of Data per Author\", y=1.1)\n",
    "plt.axis('equal')\n",
    "plt.show()"
   ]
  },
  {
   "cell_type": "markdown",
   "metadata": {},
   "source": [
    "The pie chart was great practice for me to learn how to do, and helped to illustrate the difference in data I had for each author. While not horrifically so, there was some aspect of imbalance present."
   ]
  },
  {
   "cell_type": "markdown",
   "metadata": {},
   "source": [
    "### Use a Small Program to Chunk Books"
   ]
  },
  {
   "cell_type": "code",
   "execution_count": 33,
   "metadata": {
    "collapsed": true
   },
   "outputs": [],
   "source": [
    "#http://stackoverflow.com/questions/312443/how-do-you-split-a-list-into-evenly-sized-chunks-in-python\n",
    "def chunks(l, n):\n",
    "    n = max(1, n)\n",
    "    return [l[i:i + n] for i in range(0, len(l), n)]"
   ]
  },
  {
   "cell_type": "code",
   "execution_count": 34,
   "metadata": {
    "collapsed": false
   },
   "outputs": [],
   "source": [
    "acc_chunks = chunks(acc, 5000)\n",
    "dc_chunks = chunks(dc, 5000)\n",
    "ge_chunks = chunks(ge, 5000)\n",
    "ot_chunks = chunks(ot, 5000)\n",
    "atotc_chunks = chunks(atotc, 5000)\n",
    "aosh_chunks = chunks(aosh, 5000)\n",
    "asis_chunks = chunks(asis, 5000)\n",
    "tsof_chunks = chunks(tsof, 5000)\n",
    "rosh_chunks = chunks(rosh, 5000)\n",
    "mosh_chunks = chunks(mosh, 5000)\n",
    "hotb_chunks = chunks(hotb, 5000)"
   ]
  },
  {
   "cell_type": "code",
   "execution_count": 35,
   "metadata": {
    "collapsed": false
   },
   "outputs": [],
   "source": [
    "acc_chunks = acc_chunks[0:len(acc_chunks)-1]\n",
    "dc_chunks = dc_chunks[0:len(dc_chunks)-1]\n",
    "ge_chunks = ge_chunks[0:len(ge_chunks)-1]\n",
    "ot_chunks = ot_chunks[0:len(ot_chunks)-1]\n",
    "atotc_chunks = atotc_chunks[0:len(atotc_chunks)-1]\n",
    "aosh_chunks = aosh_chunks[0:25]\n",
    "asis_chunks = asis_chunks[0:len(asis_chunks)-1]\n",
    "tsof_chunks = tsof_chunks[0:len(tsof_chunks)-1]\n",
    "rosh_chunks = rosh_chunks[0:len(rosh_chunks)-1]\n",
    "mosh_chunks = mosh_chunks[0:len(mosh_chunks)-1]\n",
    "hotb_chunks = hotb_chunks[0:len(hotb_chunks)-1]"
   ]
  },
  {
   "cell_type": "markdown",
   "metadata": {},
   "source": [
    "### Check Lengths to Make Sure All is Well"
   ]
  },
  {
   "cell_type": "code",
   "execution_count": 36,
   "metadata": {
    "collapsed": false
   },
   "outputs": [],
   "source": [
    "total_chunks = acc_chunks + dc_chunks + ge_chunks + ot_chunks + atotc_chunks + aosh_chunks + asis_chunks + tsof_chunks + rosh_chunks + mosh_chunks + hotb_chunks\n",
    "len(total_chunks)\n",
    "total_chunks_arr = np.asarray(total_chunks)"
   ]
  },
  {
   "cell_type": "code",
   "execution_count": 37,
   "metadata": {
    "collapsed": false
   },
   "outputs": [],
   "source": [
    "dickens_works = acc_chunks + dc_chunks + ge_chunks + ot_chunks + atotc_chunks"
   ]
  },
  {
   "cell_type": "code",
   "execution_count": 38,
   "metadata": {
    "collapsed": true
   },
   "outputs": [],
   "source": [
    "doyle_works = aosh_chunks + asis_chunks + tsof_chunks + rosh_chunks + mosh_chunks + hotb_chunks"
   ]
  },
  {
   "cell_type": "code",
   "execution_count": 39,
   "metadata": {
    "collapsed": false
   },
   "outputs": [
    {
     "data": {
      "text/plain": [
       "209"
      ]
     },
     "execution_count": 39,
     "metadata": {},
     "output_type": "execute_result"
    }
   ],
   "source": [
    "len(dickens_works)"
   ]
  },
  {
   "cell_type": "code",
   "execution_count": 40,
   "metadata": {
    "collapsed": false
   },
   "outputs": [
    {
     "data": {
      "text/plain": [
       "104"
      ]
     },
     "execution_count": 40,
     "metadata": {},
     "output_type": "execute_result"
    }
   ],
   "source": [
    "len(doyle_works)"
   ]
  },
  {
   "cell_type": "code",
   "execution_count": 50,
   "metadata": {
    "collapsed": false
   },
   "outputs": [
    {
     "data": {
      "text/plain": [
       "313"
      ]
     },
     "execution_count": 50,
     "metadata": {},
     "output_type": "execute_result"
    }
   ],
   "source": [
    "len(total_chunks_arr)"
   ]
  },
  {
   "cell_type": "markdown",
   "metadata": {},
   "source": [
    "### Create My 'y'"
   ]
  },
  {
   "cell_type": "code",
   "execution_count": 51,
   "metadata": {
    "collapsed": false
   },
   "outputs": [],
   "source": [
    "zeros = np.zeros(209)"
   ]
  },
  {
   "cell_type": "code",
   "execution_count": 52,
   "metadata": {
    "collapsed": true
   },
   "outputs": [],
   "source": [
    "ones = np.ones(104)"
   ]
  },
  {
   "cell_type": "code",
   "execution_count": 53,
   "metadata": {
    "collapsed": false
   },
   "outputs": [
    {
     "data": {
      "text/plain": [
       "array([ 0.,  0.,  0.,  0.,  0.,  0.,  0.,  0.,  0.,  0.,  0.,  0.,  0.,\n",
       "        0.,  0.,  0.,  0.,  0.,  0.,  0.,  0.,  0.,  0.,  0.,  0.,  0.,\n",
       "        0.,  0.,  0.,  0.,  0.,  0.,  0.,  0.,  0.,  0.,  0.,  0.,  0.,\n",
       "        0.,  0.,  0.,  0.,  0.,  0.,  0.,  0.,  0.,  0.,  0.,  0.,  0.,\n",
       "        0.,  0.,  0.,  0.,  0.,  0.,  0.,  0.,  0.,  0.,  0.,  0.,  0.,\n",
       "        0.,  0.,  0.,  0.,  0.,  0.,  0.,  0.,  0.,  0.,  0.,  0.,  0.,\n",
       "        0.,  0.,  0.,  0.,  0.,  0.,  0.,  0.,  0.,  0.,  0.,  0.,  0.,\n",
       "        0.,  0.,  0.,  0.,  0.,  0.,  0.,  0.,  0.,  0.,  0.,  0.,  0.,\n",
       "        0.,  0.,  0.,  0.,  0.,  0.,  0.,  0.,  0.,  0.,  0.,  0.,  0.,\n",
       "        0.,  0.,  0.,  0.,  0.,  0.,  0.,  0.,  0.,  0.,  0.,  0.,  0.,\n",
       "        0.,  0.,  0.,  0.,  0.,  0.,  0.,  0.,  0.,  0.,  0.,  0.,  0.,\n",
       "        0.,  0.,  0.,  0.,  0.,  0.,  0.,  0.,  0.,  0.,  0.,  0.,  0.,\n",
       "        0.,  0.,  0.,  0.,  0.,  0.,  0.,  0.,  0.,  0.,  0.,  0.,  0.,\n",
       "        0.,  0.,  0.,  0.,  0.,  0.,  0.,  0.,  0.,  0.,  0.,  0.,  0.,\n",
       "        0.,  0.,  0.,  0.,  0.,  0.,  0.,  0.,  0.,  0.,  0.,  0.,  0.,\n",
       "        0.,  0.,  0.,  0.,  0.,  0.,  0.,  0.,  0.,  0.,  0.,  0.,  0.,\n",
       "        0.,  1.,  1.,  1.,  1.,  1.,  1.,  1.,  1.,  1.,  1.,  1.,  1.,\n",
       "        1.,  1.,  1.,  1.,  1.,  1.,  1.,  1.,  1.,  1.,  1.,  1.,  1.,\n",
       "        1.,  1.,  1.,  1.,  1.,  1.,  1.,  1.,  1.,  1.,  1.,  1.,  1.,\n",
       "        1.,  1.,  1.,  1.,  1.,  1.,  1.,  1.,  1.,  1.,  1.,  1.,  1.,\n",
       "        1.,  1.,  1.,  1.,  1.,  1.,  1.,  1.,  1.,  1.,  1.,  1.,  1.,\n",
       "        1.,  1.,  1.,  1.,  1.,  1.,  1.,  1.,  1.,  1.,  1.,  1.,  1.,\n",
       "        1.,  1.,  1.,  1.,  1.,  1.,  1.,  1.,  1.,  1.,  1.,  1.,  1.,\n",
       "        1.,  1.,  1.,  1.,  1.,  1.,  1.,  1.,  1.,  1.,  1.,  1.,  1.,  1.])"
      ]
     },
     "execution_count": 53,
     "metadata": {},
     "output_type": "execute_result"
    }
   ],
   "source": [
    "y = np.concatenate((zeros, ones))\n",
    "y"
   ]
  },
  {
   "cell_type": "markdown",
   "metadata": {},
   "source": [
    "### Join the Tokens for Use with the Vectorizer"
   ]
  },
  {
   "cell_type": "code",
   "execution_count": 54,
   "metadata": {
    "collapsed": true
   },
   "outputs": [],
   "source": [
    "def join_tokens(lst):\n",
    "    new_list = []\n",
    "    for chunk in lst:\n",
    "        new_chunk = \" \".join(chunk)\n",
    "        new_list.append(new_chunk)\n",
    "    return new_list"
   ]
  },
  {
   "cell_type": "code",
   "execution_count": 55,
   "metadata": {
    "collapsed": false
   },
   "outputs": [],
   "source": [
    "joined_chunks = join_tokens(total_chunks)"
   ]
  },
  {
   "cell_type": "code",
   "execution_count": 56,
   "metadata": {
    "collapsed": false,
    "scrolled": true
   },
   "outputs": [
    {
     "data": {
      "text/plain": [
       "313"
      ]
     },
     "execution_count": 56,
     "metadata": {},
     "output_type": "execute_result"
    }
   ],
   "source": [
    "len(joined_chunks)"
   ]
  },
  {
   "cell_type": "markdown",
   "metadata": {},
   "source": [
    "### Proof that Removing Stop Words Is Good"
   ]
  },
  {
   "cell_type": "code",
   "execution_count": 126,
   "metadata": {
    "collapsed": true
   },
   "outputs": [],
   "source": [
    "def cos_similarity(doc1, doc2):\n",
    "    vectorizer = TfidfVectorizer()\n",
    "    tfidf = vectorizer.fit_transform([doc1, doc2])\n",
    "    return np.asarray((tfidf * tfidf.T).A)[0][1] "
   ]
  },
  {
   "cell_type": "code",
   "execution_count": 127,
   "metadata": {
    "collapsed": false
   },
   "outputs": [
    {
     "data": {
      "text/plain": [
       "0.93440551083002699"
      ]
     },
     "execution_count": 127,
     "metadata": {},
     "output_type": "execute_result"
    }
   ],
   "source": [
    "cos_similarity(oliver_twist, david_copperfield)"
   ]
  },
  {
   "cell_type": "code",
   "execution_count": 128,
   "metadata": {
    "collapsed": false
   },
   "outputs": [
    {
     "data": {
      "text/plain": [
       "0.94253868542075225"
      ]
     },
     "execution_count": 128,
     "metadata": {},
     "output_type": "execute_result"
    }
   ],
   "source": [
    "cos_similarity(david_copperfield, emma)"
   ]
  },
  {
   "cell_type": "code",
   "execution_count": 129,
   "metadata": {
    "collapsed": true
   },
   "outputs": [],
   "source": [
    "def cos_similarity_stop(doc1, doc2):\n",
    "    vectorizer = TfidfVectorizer(stop_words='english')\n",
    "    tfidf = vectorizer.fit_transform([doc1, doc2])\n",
    "    return np.asarray((tfidf * tfidf.T).A)[0][1] "
   ]
  },
  {
   "cell_type": "code",
   "execution_count": 130,
   "metadata": {
    "collapsed": false
   },
   "outputs": [
    {
     "data": {
      "text/plain": [
       "0.70134846548871876"
      ]
     },
     "execution_count": 130,
     "metadata": {},
     "output_type": "execute_result"
    }
   ],
   "source": [
    "cos_similarity_stop(oliver_twist, david_copperfield)"
   ]
  },
  {
   "cell_type": "code",
   "execution_count": 131,
   "metadata": {
    "collapsed": false
   },
   "outputs": [
    {
     "data": {
      "text/plain": [
       "0.60540153687542542"
      ]
     },
     "execution_count": 131,
     "metadata": {},
     "output_type": "execute_result"
    }
   ],
   "source": [
    "cos_similarity_stop(david_copperfield, emma)"
   ]
  },
  {
   "cell_type": "markdown",
   "metadata": {},
   "source": [
    "## Vectorizing My Books"
   ]
  },
  {
   "cell_type": "code",
   "execution_count": 59,
   "metadata": {
    "collapsed": false
   },
   "outputs": [],
   "source": [
    "vectorizer = TfidfVectorizer(stop_words='english')\n",
    "tfidf = vectorizer.fit_transform(joined_chunks)"
   ]
  },
  {
   "cell_type": "markdown",
   "metadata": {},
   "source": [
    "I used the TF-IDF vectorizer, as I think it is a great way to understand large texts. The idea of scaling down common words had always been on my mind, so to have a tool to do so was perfect."
   ]
  },
  {
   "cell_type": "code",
   "execution_count": 60,
   "metadata": {
    "collapsed": false
   },
   "outputs": [
    {
     "data": {
      "text/plain": [
       "<313x25631 sparse matrix of type '<type 'numpy.float64'>'\n",
       "\twith 296267 stored elements in Compressed Sparse Row format>"
      ]
     },
     "execution_count": 60,
     "metadata": {},
     "output_type": "execute_result"
    }
   ],
   "source": [
    "tfidf"
   ]
  },
  {
   "cell_type": "code",
   "execution_count": 61,
   "metadata": {
    "collapsed": false
   },
   "outputs": [
    {
     "data": {
      "text/plain": [
       "(313, 25631)"
      ]
     },
     "execution_count": 61,
     "metadata": {},
     "output_type": "execute_result"
    }
   ],
   "source": [
    "tfidf.shape"
   ]
  },
  {
   "cell_type": "code",
   "execution_count": 62,
   "metadata": {
    "collapsed": false
   },
   "outputs": [],
   "source": [
    "tfidf_real = tfidf.todense()"
   ]
  },
  {
   "cell_type": "code",
   "execution_count": 63,
   "metadata": {
    "collapsed": false
   },
   "outputs": [
    {
     "data": {
      "text/plain": [
       "(313, 25631)"
      ]
     },
     "execution_count": 63,
     "metadata": {},
     "output_type": "execute_result"
    }
   ],
   "source": [
    "tfidf_real.shape"
   ]
  },
  {
   "cell_type": "code",
   "execution_count": 64,
   "metadata": {
    "collapsed": false
   },
   "outputs": [
    {
     "data": {
      "text/plain": [
       "numpy.matrixlib.defmatrix.matrix"
      ]
     },
     "execution_count": 64,
     "metadata": {},
     "output_type": "execute_result"
    }
   ],
   "source": [
    "type(tfidf_real)"
   ]
  },
  {
   "cell_type": "code",
   "execution_count": 94,
   "metadata": {
    "collapsed": false
   },
   "outputs": [
    {
     "data": {
      "text/html": [
       "<div>\n",
       "<table border=\"1\" class=\"dataframe\">\n",
       "  <thead>\n",
       "    <tr style=\"text-align: right;\">\n",
       "      <th></th>\n",
       "      <th>000</th>\n",
       "      <th>10</th>\n",
       "      <th>100</th>\n",
       "      <th>1000</th>\n",
       "      <th>10s</th>\n",
       "      <th>10th</th>\n",
       "      <th>11</th>\n",
       "      <th>1100</th>\n",
       "      <th>117</th>\n",
       "      <th>117th</th>\n",
       "      <th>...</th>\n",
       "      <th>zealous</th>\n",
       "      <th>zealously</th>\n",
       "      <th>zenith</th>\n",
       "      <th>zero</th>\n",
       "      <th>zest</th>\n",
       "      <th>zigzag</th>\n",
       "      <th>zigzagged</th>\n",
       "      <th>zion</th>\n",
       "      <th>zoo</th>\n",
       "      <th>zoology</th>\n",
       "    </tr>\n",
       "  </thead>\n",
       "  <tbody>\n",
       "    <tr>\n",
       "      <th>0</th>\n",
       "      <td>0</td>\n",
       "      <td>0</td>\n",
       "      <td>0</td>\n",
       "      <td>0</td>\n",
       "      <td>0</td>\n",
       "      <td>0</td>\n",
       "      <td>0</td>\n",
       "      <td>0</td>\n",
       "      <td>0</td>\n",
       "      <td>0</td>\n",
       "      <td>...</td>\n",
       "      <td>0</td>\n",
       "      <td>0</td>\n",
       "      <td>0</td>\n",
       "      <td>0</td>\n",
       "      <td>0</td>\n",
       "      <td>0</td>\n",
       "      <td>0</td>\n",
       "      <td>0</td>\n",
       "      <td>0</td>\n",
       "      <td>0</td>\n",
       "    </tr>\n",
       "    <tr>\n",
       "      <th>1</th>\n",
       "      <td>0</td>\n",
       "      <td>0</td>\n",
       "      <td>0</td>\n",
       "      <td>0</td>\n",
       "      <td>0</td>\n",
       "      <td>0</td>\n",
       "      <td>0</td>\n",
       "      <td>0</td>\n",
       "      <td>0</td>\n",
       "      <td>0</td>\n",
       "      <td>...</td>\n",
       "      <td>0</td>\n",
       "      <td>0</td>\n",
       "      <td>0</td>\n",
       "      <td>0</td>\n",
       "      <td>0</td>\n",
       "      <td>0</td>\n",
       "      <td>0</td>\n",
       "      <td>0</td>\n",
       "      <td>0</td>\n",
       "      <td>0</td>\n",
       "    </tr>\n",
       "    <tr>\n",
       "      <th>2</th>\n",
       "      <td>0</td>\n",
       "      <td>0</td>\n",
       "      <td>0</td>\n",
       "      <td>0</td>\n",
       "      <td>0</td>\n",
       "      <td>0</td>\n",
       "      <td>0</td>\n",
       "      <td>0</td>\n",
       "      <td>0</td>\n",
       "      <td>0</td>\n",
       "      <td>...</td>\n",
       "      <td>0</td>\n",
       "      <td>0</td>\n",
       "      <td>0</td>\n",
       "      <td>0</td>\n",
       "      <td>0</td>\n",
       "      <td>0</td>\n",
       "      <td>0</td>\n",
       "      <td>0</td>\n",
       "      <td>0</td>\n",
       "      <td>0</td>\n",
       "    </tr>\n",
       "    <tr>\n",
       "      <th>3</th>\n",
       "      <td>0</td>\n",
       "      <td>0</td>\n",
       "      <td>0</td>\n",
       "      <td>0</td>\n",
       "      <td>0</td>\n",
       "      <td>0</td>\n",
       "      <td>0</td>\n",
       "      <td>0</td>\n",
       "      <td>0</td>\n",
       "      <td>0</td>\n",
       "      <td>...</td>\n",
       "      <td>0</td>\n",
       "      <td>0</td>\n",
       "      <td>0</td>\n",
       "      <td>0</td>\n",
       "      <td>0</td>\n",
       "      <td>0</td>\n",
       "      <td>0</td>\n",
       "      <td>0</td>\n",
       "      <td>0</td>\n",
       "      <td>0</td>\n",
       "    </tr>\n",
       "    <tr>\n",
       "      <th>4</th>\n",
       "      <td>0</td>\n",
       "      <td>0</td>\n",
       "      <td>0</td>\n",
       "      <td>0</td>\n",
       "      <td>0</td>\n",
       "      <td>0</td>\n",
       "      <td>0</td>\n",
       "      <td>0</td>\n",
       "      <td>0</td>\n",
       "      <td>0</td>\n",
       "      <td>...</td>\n",
       "      <td>0</td>\n",
       "      <td>0</td>\n",
       "      <td>0</td>\n",
       "      <td>0</td>\n",
       "      <td>0</td>\n",
       "      <td>0</td>\n",
       "      <td>0</td>\n",
       "      <td>0</td>\n",
       "      <td>0</td>\n",
       "      <td>0</td>\n",
       "    </tr>\n",
       "  </tbody>\n",
       "</table>\n",
       "<p>5 rows × 25631 columns</p>\n",
       "</div>"
      ],
      "text/plain": [
       "   000  10  100  1000  10s  10th  11  1100  117  117th   ...     zealous  \\\n",
       "0    0   0    0     0    0     0   0     0    0      0   ...           0   \n",
       "1    0   0    0     0    0     0   0     0    0      0   ...           0   \n",
       "2    0   0    0     0    0     0   0     0    0      0   ...           0   \n",
       "3    0   0    0     0    0     0   0     0    0      0   ...           0   \n",
       "4    0   0    0     0    0     0   0     0    0      0   ...           0   \n",
       "\n",
       "   zealously  zenith  zero  zest  zigzag  zigzagged  zion  zoo  zoology  \n",
       "0          0       0     0     0       0          0     0    0        0  \n",
       "1          0       0     0     0       0          0     0    0        0  \n",
       "2          0       0     0     0       0          0     0    0        0  \n",
       "3          0       0     0     0       0          0     0    0        0  \n",
       "4          0       0     0     0       0          0     0    0        0  \n",
       "\n",
       "[5 rows x 25631 columns]"
      ]
     },
     "execution_count": 94,
     "metadata": {},
     "output_type": "execute_result"
    }
   ],
   "source": [
    "df = pd.DataFrame(tfidf_real, columns=vectorizer.get_feature_names())\n",
    "df.head()"
   ]
  },
  {
   "cell_type": "markdown",
   "metadata": {},
   "source": [
    "### Creating my 'X'"
   ]
  },
  {
   "cell_type": "code",
   "execution_count": 69,
   "metadata": {
    "collapsed": false
   },
   "outputs": [],
   "source": [
    "X = tfidf_real"
   ]
  },
  {
   "cell_type": "code",
   "execution_count": 70,
   "metadata": {
    "collapsed": false
   },
   "outputs": [
    {
     "data": {
      "text/plain": [
       "matrix([[ 0.,  0.,  0., ...,  0.,  0.,  0.],\n",
       "        [ 0.,  0.,  0., ...,  0.,  0.,  0.],\n",
       "        [ 0.,  0.,  0., ...,  0.,  0.,  0.],\n",
       "        ..., \n",
       "        [ 0.,  0.,  0., ...,  0.,  0.,  0.],\n",
       "        [ 0.,  0.,  0., ...,  0.,  0.,  0.],\n",
       "        [ 0.,  0.,  0., ...,  0.,  0.,  0.]])"
      ]
     },
     "execution_count": 70,
     "metadata": {},
     "output_type": "execute_result"
    }
   ],
   "source": [
    "X"
   ]
  },
  {
   "cell_type": "markdown",
   "metadata": {},
   "source": [
    "### Train/Test Split"
   ]
  },
  {
   "cell_type": "code",
   "execution_count": 71,
   "metadata": {
    "collapsed": true
   },
   "outputs": [],
   "source": [
    "X_train, X_test, y_train, y_test = train_test_split(X,y)"
   ]
  },
  {
   "cell_type": "code",
   "execution_count": 72,
   "metadata": {
    "collapsed": false
   },
   "outputs": [
    {
     "name": "stdout",
     "output_type": "stream",
     "text": [
      "79\n",
      "234\n"
     ]
    }
   ],
   "source": [
    "print len(X_test)\n",
    "print len(X_train)"
   ]
  },
  {
   "cell_type": "markdown",
   "metadata": {},
   "source": [
    "### Grid Search to Find Optimal SVM Values"
   ]
  },
  {
   "cell_type": "code",
   "execution_count": 73,
   "metadata": {
    "collapsed": false
   },
   "outputs": [
    {
     "name": "stdout",
     "output_type": "stream",
     "text": [
      "Fitting 3 folds for each of 30 candidates, totalling 90 fits\n"
     ]
    },
    {
     "name": "stderr",
     "output_type": "stream",
     "text": [
      "[Parallel(n_jobs=-1)]: Done   1 jobs       | elapsed:    3.5s\n",
      "[Parallel(n_jobs=-1)]: Done  50 jobs       | elapsed:   30.8s\n",
      "[Parallel(n_jobs=-1)]: Done  84 out of  90 | elapsed:   57.2s remaining:    4.1s\n",
      "[Parallel(n_jobs=-1)]: Done  90 out of  90 | elapsed:  1.0min finished\n"
     ]
    },
    {
     "name": "stdout",
     "output_type": "stream",
     "text": [
      "best parameters: {'kernel': 'linear', 'C': 1.0, 'shrinking': True}\n"
     ]
    }
   ],
   "source": [
    "svm_svc_grid = {'C': [0.25, .5, 1.0, 1.5, 1.75],\n",
    "                          'kernel': ['linear', 'poly', 'rbf'],\n",
    "                          #'degree': [1, 2, 3, 4],\n",
    "                          'shrinking': [True, False]}\n",
    "\n",
    "svm_svc_gridsearch = GridSearchCV(svm.SVC(),\n",
    "                             svm_svc_grid,\n",
    "                             n_jobs=-1,\n",
    "                             verbose=True,\n",
    "                             scoring='mean_squared_error')\n",
    "\n",
    "svm_svc_gridsearch.fit(X_train, y_train)\n",
    "\n",
    "print \"best parameters:\", svm_svc_gridsearch.best_params_\n",
    "\n",
    "best_model = svm_svc_gridsearch.best_estimator_"
   ]
  },
  {
   "cell_type": "markdown",
   "metadata": {},
   "source": [
    "### Creating My Model Using Those Values"
   ]
  },
  {
   "cell_type": "code",
   "execution_count": 74,
   "metadata": {
    "collapsed": false
   },
   "outputs": [
    {
     "data": {
      "text/plain": [
       "SVC(C=1.0, cache_size=200, class_weight=None, coef0=0.0, degree=3, gamma=0.0,\n",
       "  kernel='linear', max_iter=-1, probability=False, random_state=None,\n",
       "  shrinking=True, tol=0.001, verbose=False)"
      ]
     },
     "execution_count": 74,
     "metadata": {},
     "output_type": "execute_result"
    }
   ],
   "source": [
    "model = svm.SVC(kernel='linear')\n",
    "model.fit(X_train, y_train)"
   ]
  },
  {
   "cell_type": "markdown",
   "metadata": {},
   "source": [
    "I chose to use an SVM. It was Lee's recommendation, as he pointed out that as compared to Naive Bayes (which I was considering early in the process), NB was more useful in cases where simplicity, speed, or data from the web was involved. None of those factors affected me, so I turned towards SVM. Other factors were that there were not a ton of classes (initially only two) to potentially confuse the SVM, and there was some imbalance present."
   ]
  },
  {
   "cell_type": "markdown",
   "metadata": {},
   "source": [
    "### Cross Validating the Model"
   ]
  },
  {
   "cell_type": "code",
   "execution_count": 75,
   "metadata": {
    "collapsed": false
   },
   "outputs": [
    {
     "data": {
      "text/plain": [
       "array([ 1.,  1.,  1.,  1.,  1.,  1.,  1.,  1.,  1.,  1.])"
      ]
     },
     "execution_count": 75,
     "metadata": {},
     "output_type": "execute_result"
    }
   ],
   "source": [
    "cross_val_score(model, X_train, y_train, cv=10)"
   ]
  },
  {
   "cell_type": "markdown",
   "metadata": {},
   "source": [
    "I did a ten fold cross validation on my training data. I love the idea of k-folds here, as since I had unbalanced data, I always had a bit of concern that there was a chance that a fold I just happened to select to look at would have been almost entirely work from Charles Dickens, and thus screw up my model. I needed to see if any of my folds would bear this out, and to look at the average as a whole. As you can see, this was not the case. I discussed it at length and in detail during my presentation, so no need to go into it here, but as soon as I saw all ones, 'overfitting' popped into my head. Of all the things we did, I find the cross validation techniques to be some of the most valuable that I learned, as it was an idea that I had not considered seriously on my own. I can understand the value of having some idea of how your model will perform in the wild."
   ]
  },
  {
   "cell_type": "markdown",
   "metadata": {},
   "source": [
    "### It Looks Perfect... (Bad?) Check on the Test Data"
   ]
  },
  {
   "cell_type": "code",
   "execution_count": 77,
   "metadata": {
    "collapsed": false
   },
   "outputs": [
    {
     "data": {
      "text/plain": [
       "1.0"
      ]
     },
     "execution_count": 77,
     "metadata": {},
     "output_type": "execute_result"
    }
   ],
   "source": [
    "model.score(X_test, y_test)"
   ]
  },
  {
   "cell_type": "markdown",
   "metadata": {},
   "source": [
    "### Overall Summary Statistics"
   ]
  },
  {
   "cell_type": "code",
   "execution_count": 83,
   "metadata": {
    "collapsed": false
   },
   "outputs": [
    {
     "name": "stdout",
     "output_type": "stream",
     "text": [
      "             precision    recall  f1-score   support\n",
      "\n",
      "        0.0       1.00      1.00      1.00        53\n",
      "        1.0       1.00      1.00      1.00        26\n",
      "\n",
      "avg / total       1.00      1.00      1.00        79\n",
      "\n"
     ]
    }
   ],
   "source": [
    "print classification_report(y_test,model.predict(X_test))"
   ]
  },
  {
   "cell_type": "markdown",
   "metadata": {},
   "source": [
    "The nature of my model's performance made it hard to judge performance metrics. Generally, I am a fan of the F1-Score (harmonic mean between precision [TP/{TP+FP}] and recall [TP/{TP+FN}]), as I think it captures a lot of information within one statistic. That is to say, it gives us a window into how good our model is at both finding true positives while avoiding false negatives and finding true positives while avoiding false positives. Next, I know we can't treat it as the end all be all, but I think in my case I would have also paid attention to accuracy. My ultimate goal, to create something along these lines that could tell a writer whose work their writing most likely resembles, wants to make sure it is correct (just like every model). I still love precision and recall, but there is something to be said for just having a simple glance at simply what percent of items your model predicted correctly. In the future, in other models I make, I would like to investigate the AUC metric more as well. I don't remember much of it from class but it seems like it would be useful as well - going hand in hand with the ROC curve. Sadly, an ROC curve wouldn't have given much insight here to my model's performance. "
   ]
  },
  {
   "cell_type": "markdown",
   "metadata": {},
   "source": [
    "## Remove Unique Words?"
   ]
  },
  {
   "cell_type": "markdown",
   "metadata": {},
   "source": [
    "As a way to potentially combat this overfitting, Lee suggested that maybe I remove words that were only unique to one author. First and foremost, I could not figure out a quick and/or easy way to implement this. He suggested just removing columns in the data frame, but my removal of stop words sunk this idea. I tried to do some loops through my data, but it was simply too many loops compounded on top of each other for that to be an effective method. Below you can view some of the work that went in to my failed attempts (I was at least able to pull out the unique words)."
   ]
  },
  {
   "cell_type": "code",
   "execution_count": 156,
   "metadata": {
    "collapsed": false
   },
   "outputs": [
    {
     "data": {
      "text/plain": [
       "0"
      ]
     },
     "execution_count": 156,
     "metadata": {},
     "output_type": "execute_result"
    }
   ],
   "source": [
    "count = 0\n",
    "for chunk in dickens_works:\n",
    "    if 'sherlock' in chunk:\n",
    "        count += 1\n",
    "count"
   ]
  },
  {
   "cell_type": "code",
   "execution_count": 157,
   "metadata": {
    "collapsed": false
   },
   "outputs": [
    {
     "data": {
      "text/plain": [
       "89"
      ]
     },
     "execution_count": 157,
     "metadata": {},
     "output_type": "execute_result"
    }
   ],
   "source": [
    "count1 = 0\n",
    "for chunk in doyle_works:\n",
    "    if 'sherlock' in chunk:\n",
    "        count += 1\n",
    "count"
   ]
  },
  {
   "cell_type": "code",
   "execution_count": 158,
   "metadata": {
    "collapsed": true
   },
   "outputs": [],
   "source": [
    "dickens_works_total = acc + dc + ge + ot + atotc\n",
    "doyle_works_total = aosh + asis + tsof + rosh + mosh + hotb"
   ]
  },
  {
   "cell_type": "code",
   "execution_count": 159,
   "metadata": {
    "collapsed": false
   },
   "outputs": [
    {
     "name": "stdout",
     "output_type": "stream",
     "text": [
      "1052610\n",
      "538135\n"
     ]
    }
   ],
   "source": [
    "print len(dickens_works_total)\n",
    "print len(doyle_works_total)"
   ]
  },
  {
   "cell_type": "code",
   "execution_count": 160,
   "metadata": {
    "collapsed": true
   },
   "outputs": [],
   "source": [
    "dickens_set = set(dickens_works_total)\n",
    "doyle_set = set(doyle_works_total)"
   ]
  },
  {
   "cell_type": "code",
   "execution_count": 161,
   "metadata": {
    "collapsed": false
   },
   "outputs": [
    {
     "name": "stdout",
     "output_type": "stream",
     "text": [
      "24820\n",
      "17945\n"
     ]
    }
   ],
   "source": [
    "print len(dickens_set)\n",
    "print len(doyle_set)"
   ]
  },
  {
   "cell_type": "code",
   "execution_count": 162,
   "metadata": {
    "collapsed": false
   },
   "outputs": [
    {
     "data": {
      "text/plain": [
       "[u'gradiwally',\n",
       " u'spiders',\n",
       " u'self-reliant',\n",
       " u'sevens',\n",
       " u'canes',\n",
       " u'scold',\n",
       " u'caned',\n",
       " u'stipulate',\n",
       " u'strictest',\n",
       " u'broiled',\n",
       " u'disapinting',\n",
       " u'steadfastness',\n",
       " u'festered',\n",
       " u\"'relish\",\n",
       " u'sooty',\n",
       " u'27.',\n",
       " u'feasibility',\n",
       " u'snuggest',\n",
       " u'sustaining',\n",
       " u'consenting']"
      ]
     },
     "execution_count": 162,
     "metadata": {},
     "output_type": "execute_result"
    }
   ],
   "source": [
    "dickens_unique = []\n",
    "for word in dickens_set:\n",
    "    if word not in doyle_set:\n",
    "        dickens_unique.append(word)\n",
    "len(dickens_unique)\n",
    "dickens_unique[:20]"
   ]
  },
  {
   "cell_type": "code",
   "execution_count": 163,
   "metadata": {
    "collapsed": false
   },
   "outputs": [
    {
     "data": {
      "text/plain": [
       "[u'1890',\n",
       " u'fore-shadowed',\n",
       " u'gravel-pit',\n",
       " u'dubbed',\n",
       " u'clotted',\n",
       " u\"friend's\",\n",
       " u'conjuring',\n",
       " u'frou-frou',\n",
       " u'granting',\n",
       " u'adaptable',\n",
       " u'unclubable',\n",
       " u'117th',\n",
       " u'flicking',\n",
       " u'co-operation',\n",
       " u'retailers',\n",
       " u'sunlit',\n",
       " u'seven-eighths',\n",
       " u'grecian',\n",
       " u'wooded',\n",
       " u'iron-master']"
      ]
     },
     "execution_count": 163,
     "metadata": {},
     "output_type": "execute_result"
    }
   ],
   "source": [
    "doyle_unique = []\n",
    "for word in doyle_set:\n",
    "    if word not in dickens_set:\n",
    "        doyle_unique.append(word)\n",
    "len(doyle_unique)\n",
    "doyle_unique[:20]"
   ]
  },
  {
   "cell_type": "code",
   "execution_count": 164,
   "metadata": {
    "collapsed": false
   },
   "outputs": [
    {
     "data": {
      "text/plain": [
       "11474"
      ]
     },
     "execution_count": 164,
     "metadata": {},
     "output_type": "execute_result"
    }
   ],
   "source": [
    "both_authors = []\n",
    "for word in doyle_set:\n",
    "    if word in dickens_set:\n",
    "        both_authors.append(word)\n",
    "len(both_authors)"
   ]
  },
  {
   "cell_type": "markdown",
   "metadata": {},
   "source": [
    "#### (Could not figure out how to effectively remove these unique words + concern about such a drastic step)"
   ]
  },
  {
   "cell_type": "code",
   "execution_count": 100,
   "metadata": {
    "collapsed": false,
    "scrolled": true
   },
   "outputs": [],
   "source": [
    "#df3 = df2.drop(doyle_unique, axis=1)\n",
    "# sum = 0\n",
    "# df3 = df2.copy()\n",
    "# for name in vectorizer.get_feature_names():\n",
    "#     if name in doyle_unique or name in dickens_unique:\n",
    "#         df3 = df3.drop(name, axis=1)"
   ]
  },
  {
   "cell_type": "markdown",
   "metadata": {},
   "source": [
    "## Remove Most Important Words?"
   ]
  },
  {
   "cell_type": "markdown",
   "metadata": {},
   "source": [
    "Building off Lee's suggestion, I decided to just instead remove the most important words, which I suspected would be things like names. My hunch was borne out, as we can see that Named Entities like 'Holmes' and 'Watson' was indeed some of the most important features. However, even after I removed them, we can see that other words such as 'Mortimer' (who was a client free Holmes') simply took up the mantle of being the most important feature. So it was an attempt, but it did not seem to go anywhere."
   ]
  },
  {
   "cell_type": "code",
   "execution_count": 189,
   "metadata": {
    "collapsed": false
   },
   "outputs": [
    {
     "data": {
      "text/plain": [
       "array([ 0.01092405,  0.03596394,  0.02164467, ...,  0.        ,\n",
       "        0.00251691,  0.        ])"
      ]
     },
     "execution_count": 189,
     "metadata": {},
     "output_type": "execute_result"
    }
   ],
   "source": [
    "model.coef_[0]"
   ]
  },
  {
   "cell_type": "code",
   "execution_count": 190,
   "metadata": {
    "collapsed": false
   },
   "outputs": [],
   "source": [
    "svm_import = model.coef_[0]"
   ]
  },
  {
   "cell_type": "code",
   "execution_count": 191,
   "metadata": {
    "collapsed": false
   },
   "outputs": [
    {
     "data": {
      "text/plain": [
       "array([14773, 12616, 19749, ..., 13878, 24856, 11084])"
      ]
     },
     "execution_count": 191,
     "metadata": {},
     "output_type": "execute_result"
    }
   ],
   "source": [
    "svm_import.argsort()"
   ]
  },
  {
   "cell_type": "code",
   "execution_count": 192,
   "metadata": {
    "collapsed": false
   },
   "outputs": [
    {
     "data": {
      "text/plain": [
       "array([u'000', u'10', u'100', u'1000', u'10s', u'10th', u'11', u'1100',\n",
       "       u'117', u'117th', u'12', u'120', u'126b', u'129', u'12s', u'12th',\n",
       "       u'13', u'131', u'13th', u'14'], \n",
       "      dtype='<U29')"
      ]
     },
     "execution_count": 192,
     "metadata": {},
     "output_type": "execute_result"
    }
   ],
   "source": [
    "words = vectorizer.get_feature_names()\n",
    "words = np.asarray(words)\n",
    "words[:20]"
   ]
  },
  {
   "cell_type": "code",
   "execution_count": 193,
   "metadata": {
    "collapsed": false
   },
   "outputs": [
    {
     "data": {
      "text/plain": [
       "array([14773, 12616, 19749, 15509, 24972,  2849, 10915, 13614, 14312,\n",
       "        3175, 14473,  7072, 21509, 18677,  6027,   777,  8524, 13982,\n",
       "       19432, 23161, 10742,  5158, 14593, 13891, 16705, 14608,  1674,\n",
       "       12509, 14607,  5842,  5905, 12570, 12579,  8085, 16292,  5836,\n",
       "       14774, 14827,  4310,  9921,  6979, 13578, 20393,  3569,  3087,\n",
       "       14707,  9855, 17388,  7653, 22539, 13677, 13771, 10769, 13583,\n",
       "       13048, 10077, 24979,  5439,  5590,  6460, 15651, 13825, 22882,\n",
       "       14770, 17389,  8599, 10685, 21422, 25411, 22911,  7294, 22503,\n",
       "       18923, 19780, 13366,  9417,  5866,  2929, 14100, 24248, 12602,\n",
       "       19218, 17654,   803,  2387, 16107, 15512, 18484, 10565, 20228,\n",
       "       16346, 20996, 13817, 14014, 21635,  3078, 21796, 14488, 17730, 16108])"
      ]
     },
     "execution_count": 193,
     "metadata": {},
     "output_type": "execute_result"
    }
   ],
   "source": [
    "indices = svm_import.argsort()\n",
    "indices[:100]"
   ]
  },
  {
   "cell_type": "markdown",
   "metadata": {},
   "source": [
    "### Found Most Important Words"
   ]
  },
  {
   "cell_type": "code",
   "execution_count": 194,
   "metadata": {
    "collapsed": false
   },
   "outputs": [
    {
     "data": {
      "text/plain": [
       "array([u'holmes', u'watson', u'man', u'colonel', u'sherlock', u'morstan',\n",
       "       u'drebber', u'rucastle', u'brunton', u'henry', u'trevor',\n",
       "       u'musgrave', u'cab', u'hunter', u'dr', u'case', u'sholto', u'moor',\n",
       "       u'matter', u'shall', u'fort', u'hudson', u'jefferson', u'treasure',\n",
       "       u'police', u'barrymore', u'room', u'butler', u'just', u'small',\n",
       "       u'agra', u'barclay', u'maid', u'beddoes', u'hall', u'sir', u'lucy',\n",
       "       u'mawson', u'train', u'imagine', u'inspector', u'facts', u'rushed',\n",
       "       u'hardly', u'sahib', u'st', u'stangerson', u'coronet', u'came',\n",
       "       u'major', u'cottage', u'remarked', u'crime', u'threw', u'answered',\n",
       "       u'clair', u'black', u'baskerville', u'wife', u'carruthers',\n",
       "       u'lestrade', u'machine', u'window', u'blessington', u'chance',\n",
       "       u'companion', u'lawn', u'ferrier', u'later', u'godfrey', u'instant',\n",
       "       u'sikh', u'stamford', u'test', u'sprang', u'toller', u'arthur',\n",
       "       u'station', u'opium', u'end', u'ritual', u'thaddeus', u'problem',\n",
       "       u'client', u'eyford', u'suddenly', u'yellow', u'door', u'holder',\n",
       "       u'tell', u'fuller', u'strange', u'straker', u'friend', u'street',\n",
       "       u'achmet', u'obvious', u'medical', u'cried', u'absolutely'], \n",
       "      dtype='<U29')"
      ]
     },
     "execution_count": 194,
     "metadata": {},
     "output_type": "execute_result"
    }
   ],
   "source": [
    "words[indices][::-1][:100]"
   ]
  },
  {
   "cell_type": "code",
   "execution_count": 195,
   "metadata": {
    "collapsed": false
   },
   "outputs": [
    {
     "data": {
      "text/plain": [
       "array([u'mr', u'joe', u'scrooge', u'oliver', u'wemmick', u'boy',\n",
       "       u'herbert', u'lorry', u'micawber', u'bumble', u'miss', u'dora',\n",
       "       u'steerforth', u'replied', u'defarge', u'agnes', u'fagin',\n",
       "       u'marquis', u'said', u'traddles', u'havisham', u'copperfield',\n",
       "       u'monks', u'manette', u'pip', u'monsieur', u'aunt', u'jaggers',\n",
       "       u'monseigneur', u'dartle', u'dear', u'jerry', u'jew', u'estella',\n",
       "       u'peggotty', u'darnay', u'mrs', u'murdstone', u'coach', u'giles',\n",
       "       u'doctor', u'looked', u'sikes', u'carton', u'brownlow', u'mother',\n",
       "       u'gentleman', u'prison', u'em', u'tellson', u'lucie', u'madame',\n",
       "       u'head', u'looking', u'larkins', u'going', u'went', u'creakle',\n",
       "       u'cruncher', u'dick', u'orlick', u'mail', u'tide', u'mowcher',\n",
       "       u'prisoner', u'fang', u'harry', u'startop', u'wot', u'till',\n",
       "       u'drummle', u'tears', u'returned', u'sea', u'like', u'fountain',\n",
       "       u'davy', u'breast', u'maylie', u'uriah', u'jip', u'rosa', u'provis',\n",
       "       u'ai', u'biddy', u'passenger', u'omer', u'rejoined', u'hand',\n",
       "       u'shore', u'people', u'sophy', u'magwitch', u'mas', u'stopped',\n",
       "       u'brothers', u'stryver', u'mist', u'pumblechook', u'passengers'], \n",
       "      dtype='<U29')"
      ]
     },
     "execution_count": 195,
     "metadata": {},
     "output_type": "execute_result"
    }
   ],
   "source": [
    "words[indices][::1][:100]"
   ]
  },
  {
   "cell_type": "code",
   "execution_count": 196,
   "metadata": {
    "collapsed": true
   },
   "outputs": [],
   "source": [
    "common_words = [u'holmes', u'watson', u'man', u'colonel', u'sherlock', u'morstan',\n",
    "       u'drebber', u'rucastle', u'brunton', u'henry', u'trevor',\n",
    "       u'musgrave', u'cab', u'hunter', u'dr', u'case', u'sholto', u'moor',\n",
    "       u'matter', u'shall', u'fort', u'hudson', u'jefferson', u'treasure',\n",
    "       u'police', u'barrymore', u'room', u'butler', u'just', u'small',\n",
    "       u'agra', u'barclay', u'maid', u'beddoes', u'hall', u'sir', u'lucy',\n",
    "       u'mawson', u'train', u'imagine', u'inspector', u'facts', u'rushed',\n",
    "       u'hardly', u'sahib', u'st', u'stangerson', u'coronet', u'came',\n",
    "       u'major', u'cottage', u'remarked', u'crime', u'threw', u'answered',\n",
    "       u'clair', u'black', u'baskerville', u'wife', u'carruthers',\n",
    "       u'lestrade', u'machine', u'window', u'blessington', u'chance',\n",
    "       u'companion', u'lawn', u'ferrier', u'later', u'godfrey', u'instant',\n",
    "       u'sikh', u'stamford', u'test', u'sprang', u'toller', u'arthur',\n",
    "       u'station', u'opium', u'end', u'ritual', u'thaddeus', u'problem',\n",
    "       u'client', u'eyford', u'suddenly', u'yellow', u'door', u'holder',\n",
    "       u'tell', u'fuller', u'strange', u'straker', u'friend', u'street',\n",
    "       u'achmet', u'obvious', u'medical', u'cried', u'absolutely',\n",
    "       u'mr', u'joe', u'scrooge', u'oliver', u'wemmick', u'boy',\n",
    "       u'herbert', u'lorry', u'micawber', u'bumble', u'miss', u'dora',\n",
    "       u'steerforth', u'replied', u'defarge', u'agnes', u'fagin',\n",
    "       u'marquis', u'said', u'traddles', u'havisham', u'copperfield',\n",
    "       u'monks', u'manette', u'pip', u'monsieur', u'aunt', u'jaggers',\n",
    "       u'monseigneur', u'dartle', u'dear', u'jerry', u'jew', u'estella',\n",
    "       u'peggotty', u'darnay', u'mrs', u'murdstone', u'coach', u'giles',\n",
    "       u'doctor', u'looked', u'sikes', u'carton', u'brownlow', u'mother',\n",
    "       u'gentleman', u'prison', u'em', u'tellson', u'lucie', u'madame',\n",
    "       u'head', u'looking', u'larkins', u'going', u'went', u'creakle',\n",
    "       u'cruncher', u'dick', u'orlick', u'mail', u'tide', u'mowcher',\n",
    "       u'prisoner', u'fang', u'harry', u'startop', u'wot', u'till',\n",
    "       u'drummle', u'tears', u'returned', u'sea', u'like', u'fountain',\n",
    "       u'davy', u'breast', u'maylie', u'uriah', u'jip', u'rosa', u'provis',\n",
    "       u'ai', u'biddy', u'passenger', u'omer', u'rejoined', u'hand',\n",
    "       u'shore', u'people', u'sophy', u'magwitch', u'mas', u'stopped',\n",
    "       u'brothers', u'stryver', u'mist', u'pumblechook', u'passengers']"
   ]
  },
  {
   "cell_type": "code",
   "execution_count": 170,
   "metadata": {
    "collapsed": false
   },
   "outputs": [
    {
     "data": {
      "text/plain": [
       "(313, 25631)"
      ]
     },
     "execution_count": 170,
     "metadata": {},
     "output_type": "execute_result"
    }
   ],
   "source": [
    "df2 = df.copy()\n",
    "df2.shape"
   ]
  },
  {
   "cell_type": "markdown",
   "metadata": {},
   "source": [
    "### Removed These Words"
   ]
  },
  {
   "cell_type": "code",
   "execution_count": 204,
   "metadata": {
    "collapsed": true
   },
   "outputs": [],
   "source": [
    "df3 = df2.drop(common_words, axis=1)"
   ]
  },
  {
   "cell_type": "code",
   "execution_count": 172,
   "metadata": {
    "collapsed": false
   },
   "outputs": [
    {
     "data": {
      "text/plain": [
       "313"
      ]
     },
     "execution_count": 172,
     "metadata": {},
     "output_type": "execute_result"
    }
   ],
   "source": [
    "X = df3.values\n",
    "len(X)\n",
    "len(y)"
   ]
  },
  {
   "cell_type": "code",
   "execution_count": 173,
   "metadata": {
    "collapsed": false
   },
   "outputs": [],
   "source": [
    "X_train, X_test, y_train, y_test = train_test_split(X,y)"
   ]
  },
  {
   "cell_type": "code",
   "execution_count": 174,
   "metadata": {
    "collapsed": false
   },
   "outputs": [
    {
     "name": "stdout",
     "output_type": "stream",
     "text": [
      "79\n",
      "234\n"
     ]
    }
   ],
   "source": [
    "print len(X_test)\n",
    "print len(X_train)"
   ]
  },
  {
   "cell_type": "code",
   "execution_count": 175,
   "metadata": {
    "collapsed": false
   },
   "outputs": [
    {
     "data": {
      "text/plain": [
       "SVC(C=1.0, cache_size=200, class_weight=None, coef0=0.0, degree=3, gamma=0.0,\n",
       "  kernel='linear', max_iter=-1, probability=False, random_state=None,\n",
       "  shrinking=True, tol=0.001, verbose=False)"
      ]
     },
     "execution_count": 175,
     "metadata": {},
     "output_type": "execute_result"
    }
   ],
   "source": [
    "second_model = svm.SVC(kernel='linear')\n",
    "second_model.fit(X_train, y_train)"
   ]
  },
  {
   "cell_type": "markdown",
   "metadata": {},
   "source": [
    "### Again, Boring Results"
   ]
  },
  {
   "cell_type": "code",
   "execution_count": 198,
   "metadata": {
    "collapsed": false
   },
   "outputs": [
    {
     "data": {
      "text/plain": [
       "array([ 1.        ,  0.91666667,  1.        ,  0.95833333,  1.        ,\n",
       "        1.        ,  1.        ,  0.95652174,  1.        ,  1.        ])"
      ]
     },
     "execution_count": 198,
     "metadata": {},
     "output_type": "execute_result"
    }
   ],
   "source": [
    "cv_scores = cross_val_score(second_model, X_train, y_train, cv=10)\n",
    "cv_scores"
   ]
  },
  {
   "cell_type": "code",
   "execution_count": 201,
   "metadata": {
    "collapsed": false
   },
   "outputs": [
    {
     "name": "stdout",
     "output_type": "stream",
     "text": [
      "0.983152173913\n"
     ]
    }
   ],
   "source": [
    "print sum(cv_scores) / len(cv_scores)"
   ]
  },
  {
   "cell_type": "code",
   "execution_count": 177,
   "metadata": {
    "collapsed": false
   },
   "outputs": [
    {
     "data": {
      "text/plain": [
       "1.0"
      ]
     },
     "execution_count": 177,
     "metadata": {},
     "output_type": "execute_result"
    }
   ],
   "source": [
    "second_model.score(X_test, y_test)"
   ]
  },
  {
   "cell_type": "code",
   "execution_count": 202,
   "metadata": {
    "collapsed": false
   },
   "outputs": [],
   "source": [
    "model2_importance = second_model.coef_[0]"
   ]
  },
  {
   "cell_type": "code",
   "execution_count": 203,
   "metadata": {
    "collapsed": false,
    "scrolled": true
   },
   "outputs": [
    {
     "data": {
      "text/plain": [
       "array([15369, 13661, 25032, 23206,  8714, 14789, 13807, 10502, 24502,\n",
       "       11010, 10332,  9572, 21016, 11998,  3910, 20327,  3016, 22138,\n",
       "       13517, 13548, 10788, 24942, 21930, 19434, 10233, 13956, 18508,\n",
       "       22853, 17594, 18660,  1152, 19069,  9611,  9268, 14331,  5350,\n",
       "        6093, 18756, 17465, 21188, 19463,  9648,  1350, 20987, 21257,\n",
       "        2242,  2836, 20743,  5553,  6875,  4177,  5731, 25256,  9314,\n",
       "       12653, 13367, 20801,  4873,  9759,  6529,  3789, 20928, 14079,\n",
       "        1890, 12786, 18421, 24332,  6507, 21674, 13887, 13482, 20060,\n",
       "        5294,  7064, 22369, 13147,  9390,  2340,  1950, 14219, 18967,\n",
       "        8163, 10629, 17658,  9828,  2940, 21315, 10172,  8076,  8588,\n",
       "        4068, 20050,  6710,  3717, 10551, 17492, 19435, 21019, 25160, 16860])"
      ]
     },
     "execution_count": 203,
     "metadata": {},
     "output_type": "execute_result"
    }
   ],
   "source": [
    "indices = model2_importance.argsort()\n",
    "indices[:100]"
   ]
  },
  {
   "cell_type": "code",
   "execution_count": 205,
   "metadata": {
    "collapsed": false
   },
   "outputs": [],
   "source": [
    "words2 = df3.columns.values"
   ]
  },
  {
   "cell_type": "code",
   "execution_count": 207,
   "metadata": {
    "collapsed": false
   },
   "outputs": [
    {
     "data": {
      "text/plain": [
       "array([u'mortimer', u'simon', u'stapleton', u'john', u'milverton',\n",
       "       u'baker', u'phelps', u'photograph', u'clear', u'gregson', u'hotel',\n",
       "       u'certainly', u'horse', u'jones', u'hound', u'face', u'james',\n",
       "       u'pycroft', u'morning', u'indian', u'ross', u'detective',\n",
       "       u'baronet', u'soames', u'fashion', u'charles', u'reached',\n",
       "       u'staunton', u'heard', u'theory', u'singular', u'mccarthy', u'duke',\n",
       "       u'drive', u'advertisement', u'possible', u'trevelyan', u'followed',\n",
       "       u'london', u'telegram', u'bicycle', u'mountains', u'wilson', u'yes',\n",
       "       u'cigar', u'excellent', u'clue', u'surely', u'mycroft', u'woodley',\n",
       "       u'features', u'moran', u'importance', u'adventure', u'evening',\n",
       "       u'paper', u'save', u'frank', u'geese', u'entirely', u'secretary',\n",
       "       u'cases', u'far', u'road', u'rooms', u'bartholomew', u'light',\n",
       "       u'study', u'papers', u'jonathan', u'goose', u'lit', u'gray',\n",
       "       u'learned', u'lodge', u'american', u'folk', u'lord', u'smith',\n",
       "       u'horror', u'revolver', u'affair', u'entered', u'box', u'nerves',\n",
       "       u'come', u'bannister', u'asked', u'track', u'fairly', u'evidently',\n",
       "       u'remarkable', u'note', u'able', u'minutes', u'lamp', u'right',\n",
       "       u'simple', u'death', u'message'], dtype=object)"
      ]
     },
     "execution_count": 207,
     "metadata": {},
     "output_type": "execute_result"
    }
   ],
   "source": [
    "words2[indices][::-1][:100]"
   ]
  },
  {
   "cell_type": "code",
   "execution_count": null,
   "metadata": {
    "collapsed": true
   },
   "outputs": [],
   "source": []
  }
 ],
 "metadata": {
  "kernelspec": {
   "display_name": "Python 2",
   "language": "python",
   "name": "python2"
  },
  "language_info": {
   "codemirror_mode": {
    "name": "ipython",
    "version": 2
   },
   "file_extension": ".py",
   "mimetype": "text/x-python",
   "name": "python",
   "nbconvert_exporter": "python",
   "pygments_lexer": "ipython2",
   "version": "2.7.11"
  }
 },
 "nbformat": 4,
 "nbformat_minor": 0
}
