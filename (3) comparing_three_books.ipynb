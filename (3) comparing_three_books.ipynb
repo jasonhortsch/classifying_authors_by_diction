{
 "cells": [
  {
   "cell_type": "code",
   "execution_count": 331,
   "metadata": {
    "collapsed": true
   },
   "outputs": [],
   "source": [
    "import nltk\n",
    "%matplotlib inline\n",
    "import numpy as np\n",
    "import pandas as pd\n",
    "from sklearn import svm\n",
    "import matplotlib.pyplot as plt\n",
    "from sklearn.cross_validation import KFold\n",
    "from sklearn.grid_search import GridSearchCV\n",
    "from sklearn.metrics import classification_report\n",
    "from sklearn.cross_validation import cross_val_score\n",
    "from sklearn.cross_validation import train_test_split\n",
    "from sklearn.feature_extraction.text import TfidfVectorizer"
   ]
  },
  {
   "cell_type": "markdown",
   "metadata": {},
   "source": [
    "# Working with Three Books"
   ]
  },
  {
   "cell_type": "markdown",
   "metadata": {},
   "source": [
    "My final task involved adding a third author's (Jane Austen) works into the fray. I figured then it may not be as easy for the SVM to split, and this was far more real world than only considering two authors. Again, my workflow was pretty much the same as the past two notebooks, except that Jane Austen was now included."
   ]
  },
  {
   "cell_type": "markdown",
   "metadata": {},
   "source": [
    "## Importing the Books"
   ]
  },
  {
   "cell_type": "code",
   "execution_count": 22,
   "metadata": {
    "collapsed": false
   },
   "outputs": [],
   "source": [
    "with open('dickens/david_copperfield.txt','r') as txt:\n",
    "    contents = txt.read()\n",
    "    contents = contents.decode('utf-8')\n",
    "    david_copperfield = contents.lower()"
   ]
  },
  {
   "cell_type": "code",
   "execution_count": 23,
   "metadata": {
    "collapsed": false
   },
   "outputs": [
    {
     "data": {
      "text/plain": [
       "1968607"
      ]
     },
     "execution_count": 23,
     "metadata": {},
     "output_type": "execute_result"
    }
   ],
   "source": [
    "len(david_copperfield)"
   ]
  },
  {
   "cell_type": "code",
   "execution_count": 24,
   "metadata": {
    "collapsed": false
   },
   "outputs": [],
   "source": [
    "with open('dickens/christmas_carol.txt','r') as txt:\n",
    "    contents = txt.read()\n",
    "    contents = contents.decode('utf-8')\n",
    "    christmas_carol = contents.lower()"
   ]
  },
  {
   "cell_type": "code",
   "execution_count": 25,
   "metadata": {
    "collapsed": false
   },
   "outputs": [
    {
     "data": {
      "text/plain": [
       "161714"
      ]
     },
     "execution_count": 25,
     "metadata": {},
     "output_type": "execute_result"
    }
   ],
   "source": [
    "len(christmas_carol)"
   ]
  },
  {
   "cell_type": "code",
   "execution_count": 26,
   "metadata": {
    "collapsed": true
   },
   "outputs": [],
   "source": [
    "with open('dickens/great_expectations.txt','r') as txt:\n",
    "    contents = txt.read()\n",
    "    contents = contents.decode('utf-8')\n",
    "    great_expectations = contents.lower()"
   ]
  },
  {
   "cell_type": "code",
   "execution_count": 27,
   "metadata": {
    "collapsed": false
   },
   "outputs": [
    {
     "data": {
      "text/plain": [
       "1013793"
      ]
     },
     "execution_count": 27,
     "metadata": {},
     "output_type": "execute_result"
    }
   ],
   "source": [
    "len(great_expectations)"
   ]
  },
  {
   "cell_type": "code",
   "execution_count": 28,
   "metadata": {
    "collapsed": true
   },
   "outputs": [],
   "source": [
    "with open('dickens/oliver_twist.txt','r') as txt:\n",
    "    contents = txt.read()\n",
    "    contents = contents.decode('utf-8')\n",
    "    oliver_twist = contents.lower()"
   ]
  },
  {
   "cell_type": "code",
   "execution_count": 29,
   "metadata": {
    "collapsed": false
   },
   "outputs": [
    {
     "data": {
      "text/plain": [
       "910807"
      ]
     },
     "execution_count": 29,
     "metadata": {},
     "output_type": "execute_result"
    }
   ],
   "source": [
    "len(oliver_twist)"
   ]
  },
  {
   "cell_type": "code",
   "execution_count": 30,
   "metadata": {
    "collapsed": false
   },
   "outputs": [],
   "source": [
    "with open('dickens/a_tale_of_two_cities2.txt','r') as txt:\n",
    "    contents = txt.read()\n",
    "    contents = contents.decode('utf-8')\n",
    "    tale_of_two_cities = contents.lower()"
   ]
  },
  {
   "cell_type": "code",
   "execution_count": 31,
   "metadata": {
    "collapsed": false
   },
   "outputs": [
    {
     "data": {
      "text/plain": [
       "771153"
      ]
     },
     "execution_count": 31,
     "metadata": {},
     "output_type": "execute_result"
    }
   ],
   "source": [
    "len(tale_of_two_cities)"
   ]
  },
  {
   "cell_type": "code",
   "execution_count": 32,
   "metadata": {
    "collapsed": true
   },
   "outputs": [],
   "source": [
    "with open('doyle/adventures_of_sherlock_holmes.txt','r') as txt:\n",
    "    contents = txt.read()\n",
    "    contents = contents.decode('utf-8')\n",
    "    adventures_of_sherlock_holmes = contents.lower()"
   ]
  },
  {
   "cell_type": "code",
   "execution_count": 33,
   "metadata": {
    "collapsed": false
   },
   "outputs": [
    {
     "data": {
      "text/plain": [
       "574456"
      ]
     },
     "execution_count": 33,
     "metadata": {},
     "output_type": "execute_result"
    }
   ],
   "source": [
    "len(adventures_of_sherlock_holmes)"
   ]
  },
  {
   "cell_type": "code",
   "execution_count": 34,
   "metadata": {
    "collapsed": true
   },
   "outputs": [],
   "source": [
    "with open('doyle/hound_of_the_baskervilles.txt','r') as txt:\n",
    "    contents = txt.read()\n",
    "    contents = contents.decode('utf-8')\n",
    "    hound_of_the_baskervilles = contents.lower()"
   ]
  },
  {
   "cell_type": "code",
   "execution_count": 35,
   "metadata": {
    "collapsed": false
   },
   "outputs": [
    {
     "data": {
      "text/plain": [
       "326505"
      ]
     },
     "execution_count": 35,
     "metadata": {},
     "output_type": "execute_result"
    }
   ],
   "source": [
    "len(hound_of_the_baskervilles)"
   ]
  },
  {
   "cell_type": "code",
   "execution_count": 36,
   "metadata": {
    "collapsed": true
   },
   "outputs": [],
   "source": [
    "with open('doyle/memoirs_of_sherlock_holmes.txt','r') as txt:\n",
    "    contents = txt.read()\n",
    "    contents = contents.decode('utf-8')\n",
    "    memoirs_of_sherlock_holmes = contents.lower()"
   ]
  },
  {
   "cell_type": "code",
   "execution_count": 37,
   "metadata": {
    "collapsed": false
   },
   "outputs": [
    {
     "data": {
      "text/plain": [
       "482873"
      ]
     },
     "execution_count": 37,
     "metadata": {},
     "output_type": "execute_result"
    }
   ],
   "source": [
    "len(memoirs_of_sherlock_holmes)"
   ]
  },
  {
   "cell_type": "code",
   "execution_count": 38,
   "metadata": {
    "collapsed": true
   },
   "outputs": [],
   "source": [
    "with open('doyle/return_of_sherlock_holmes.txt','r') as txt:\n",
    "    contents = txt.read()\n",
    "    contents = contents.decode('utf-8')\n",
    "    return_of_sherlock_holmes = contents.lower()"
   ]
  },
  {
   "cell_type": "code",
   "execution_count": 39,
   "metadata": {
    "collapsed": false
   },
   "outputs": [
    {
     "data": {
      "text/plain": [
       "621091"
      ]
     },
     "execution_count": 39,
     "metadata": {},
     "output_type": "execute_result"
    }
   ],
   "source": [
    "len(return_of_sherlock_holmes)"
   ]
  },
  {
   "cell_type": "code",
   "execution_count": 40,
   "metadata": {
    "collapsed": true
   },
   "outputs": [],
   "source": [
    "with open('doyle/sign_of_four.txt','r') as txt:\n",
    "    contents = txt.read()\n",
    "    contents = contents.decode('utf-8')\n",
    "    sign_of_four = contents.lower()"
   ]
  },
  {
   "cell_type": "code",
   "execution_count": 41,
   "metadata": {
    "collapsed": false
   },
   "outputs": [
    {
     "data": {
      "text/plain": [
       "237817"
      ]
     },
     "execution_count": 41,
     "metadata": {},
     "output_type": "execute_result"
    }
   ],
   "source": [
    "len(sign_of_four)"
   ]
  },
  {
   "cell_type": "code",
   "execution_count": 42,
   "metadata": {
    "collapsed": true
   },
   "outputs": [],
   "source": [
    "with open('doyle/study_in_scarlet.txt','r') as txt:\n",
    "    contents = txt.read()\n",
    "    contents = contents.decode('utf-8')\n",
    "    study_in_scarlet = contents.lower()"
   ]
  },
  {
   "cell_type": "code",
   "execution_count": 43,
   "metadata": {
    "collapsed": false
   },
   "outputs": [
    {
     "data": {
      "text/plain": [
       "243836"
      ]
     },
     "execution_count": 43,
     "metadata": {},
     "output_type": "execute_result"
    }
   ],
   "source": [
    "len(study_in_scarlet)"
   ]
  },
  {
   "cell_type": "code",
   "execution_count": 44,
   "metadata": {
    "collapsed": true
   },
   "outputs": [],
   "source": [
    "with open('austen/emma.txt','r') as txt:\n",
    "    contents = txt.read()\n",
    "    contents = contents.decode('utf-8')\n",
    "    emma = contents.lower()"
   ]
  },
  {
   "cell_type": "code",
   "execution_count": 45,
   "metadata": {
    "collapsed": false
   },
   "outputs": [
    {
     "data": {
      "text/plain": [
       "899263"
      ]
     },
     "execution_count": 45,
     "metadata": {},
     "output_type": "execute_result"
    }
   ],
   "source": [
    "len(emma)"
   ]
  },
  {
   "cell_type": "code",
   "execution_count": 46,
   "metadata": {
    "collapsed": true
   },
   "outputs": [],
   "source": [
    "with open('austen/northanger_abbey.txt','r') as txt:\n",
    "    contents = txt.read()\n",
    "    contents = contents.decode('utf-8')\n",
    "    na = contents.lower()"
   ]
  },
  {
   "cell_type": "code",
   "execution_count": 47,
   "metadata": {
    "collapsed": false
   },
   "outputs": [
    {
     "data": {
      "text/plain": [
       "440766"
      ]
     },
     "execution_count": 47,
     "metadata": {},
     "output_type": "execute_result"
    }
   ],
   "source": [
    "len(na)"
   ]
  },
  {
   "cell_type": "code",
   "execution_count": 48,
   "metadata": {
    "collapsed": true
   },
   "outputs": [],
   "source": [
    "with open('austen/persuasion.txt','r') as txt:\n",
    "    contents = txt.read()\n",
    "    contents = contents.decode('utf-8')\n",
    "    persuasion = contents.lower()"
   ]
  },
  {
   "cell_type": "code",
   "execution_count": 49,
   "metadata": {
    "collapsed": false
   },
   "outputs": [
    {
     "data": {
      "text/plain": [
       "475128"
      ]
     },
     "execution_count": 49,
     "metadata": {},
     "output_type": "execute_result"
    }
   ],
   "source": [
    "len(persuasion)"
   ]
  },
  {
   "cell_type": "code",
   "execution_count": 50,
   "metadata": {
    "collapsed": true
   },
   "outputs": [],
   "source": [
    "with open('austen/pride_and_prejudice.txt','r') as txt:\n",
    "    contents = txt.read()\n",
    "    contents = contents.decode('utf-8')\n",
    "    pap = contents.lower()"
   ]
  },
  {
   "cell_type": "code",
   "execution_count": 51,
   "metadata": {
    "collapsed": false
   },
   "outputs": [
    {
     "data": {
      "text/plain": [
       "697753"
      ]
     },
     "execution_count": 51,
     "metadata": {},
     "output_type": "execute_result"
    }
   ],
   "source": [
    "len(pap)"
   ]
  },
  {
   "cell_type": "code",
   "execution_count": 52,
   "metadata": {
    "collapsed": true
   },
   "outputs": [],
   "source": [
    "with open('austen/sense_and_sensibility.txt','r') as txt:\n",
    "    contents = txt.read()\n",
    "    contents = contents.decode('utf-8')\n",
    "    sas = contents.lower()"
   ]
  },
  {
   "cell_type": "code",
   "execution_count": 53,
   "metadata": {
    "collapsed": false
   },
   "outputs": [
    {
     "data": {
      "text/plain": [
       "686253"
      ]
     },
     "execution_count": 53,
     "metadata": {},
     "output_type": "execute_result"
    }
   ],
   "source": [
    "len(sas)"
   ]
  },
  {
   "cell_type": "markdown",
   "metadata": {},
   "source": [
    "## Tokenizing"
   ]
  },
  {
   "cell_type": "code",
   "execution_count": 54,
   "metadata": {
    "collapsed": true
   },
   "outputs": [],
   "source": [
    "def tokenize(text):\n",
    "    tokens = nltk.word_tokenize(text)\n",
    "    return tokens"
   ]
  },
  {
   "cell_type": "code",
   "execution_count": 55,
   "metadata": {
    "collapsed": true
   },
   "outputs": [],
   "source": [
    "acc = tokenize(christmas_carol)\n",
    "dc = tokenize(david_copperfield)\n",
    "ge = tokenize(great_expectations)"
   ]
  },
  {
   "cell_type": "code",
   "execution_count": 56,
   "metadata": {
    "collapsed": true
   },
   "outputs": [],
   "source": [
    "ot = tokenize(oliver_twist)\n",
    "atotc = tokenize(tale_of_two_cities)"
   ]
  },
  {
   "cell_type": "code",
   "execution_count": 57,
   "metadata": {
    "collapsed": true
   },
   "outputs": [],
   "source": [
    "aosh = tokenize(adventures_of_sherlock_holmes)"
   ]
  },
  {
   "cell_type": "code",
   "execution_count": 58,
   "metadata": {
    "collapsed": false
   },
   "outputs": [],
   "source": [
    "asis = tokenize(study_in_scarlet)\n",
    "tsof = tokenize(sign_of_four)\n",
    "rosh = tokenize(return_of_sherlock_holmes)\n",
    "mosh = tokenize(memoirs_of_sherlock_holmes)\n",
    "hotb = tokenize(hound_of_the_baskervilles)"
   ]
  },
  {
   "cell_type": "code",
   "execution_count": 59,
   "metadata": {
    "collapsed": false
   },
   "outputs": [],
   "source": [
    "pap_t = tokenize(pap)\n",
    "sas_t = tokenize(sas)\n",
    "emma_t = tokenize(emma)\n",
    "na_t = tokenize(na)\n",
    "persuasion_t = tokenize(persuasion)"
   ]
  },
  {
   "cell_type": "code",
   "execution_count": 60,
   "metadata": {
    "collapsed": false
   },
   "outputs": [
    {
     "name": "stdout",
     "output_type": "stream",
     "text": [
      "Tokens in: acc 35659\n",
      "Tokens in: dc 431374\n",
      "Tokens in: ge 225422\n",
      "Tokens in: ot 193897\n",
      "Tokens in: atotc 166258\n",
      "Tokens in: aosh 125571\n",
      "Tokens in: asis 51501\n",
      "Tokens in: tsof 51615\n",
      "Tokens in: rosh 134861\n",
      "Tokens in: mosh 104626\n",
      "Tokens in: hotb 69961\n",
      "Tokens in: pap 143409\n",
      "Tokens in: sas 141339\n",
      "Tokens in: emma 191626\n",
      "Tokens in: na 91545\n",
      "Tokens in: persuasion 97841\n"
     ]
    }
   ],
   "source": [
    "print \"Tokens in: acc\", len(acc)\n",
    "print \"Tokens in: dc\", len(dc)\n",
    "print \"Tokens in: ge\", len(ge)\n",
    "print \"Tokens in: ot\", len(ot)\n",
    "print \"Tokens in: atotc\", len(atotc)\n",
    "print \"Tokens in: aosh\", len(aosh)\n",
    "print \"Tokens in: asis\", len(asis)\n",
    "print \"Tokens in: tsof\", len(tsof)\n",
    "print \"Tokens in: rosh\", len(rosh)\n",
    "print \"Tokens in: mosh\", len(mosh)\n",
    "print \"Tokens in: hotb\", len(hotb)\n",
    "print \"Tokens in: pap\", len(pap_t)\n",
    "print \"Tokens in: sas\", len(sas_t)\n",
    "print \"Tokens in: emma\", len(emma_t)\n",
    "print \"Tokens in: na\", len(na_t)\n",
    "print \"Tokens in: persuasion\", len(persuasion_t)"
   ]
  },
  {
   "cell_type": "markdown",
   "metadata": {},
   "source": [
    "## Visualizations"
   ]
  },
  {
   "cell_type": "code",
   "execution_count": 223,
   "metadata": {
    "collapsed": true
   },
   "outputs": [],
   "source": [
    "austen_total = 143409 + 141339 + 191626 + 91545 + 97841\n",
    "dickens_total = 35659 + 431374 + 225422 + 193897 + 166258\n",
    "doyle_total = 125571 + 51501 + 51615 + 134861 + 104626 + 69961"
   ]
  },
  {
   "cell_type": "markdown",
   "metadata": {},
   "source": [
    "### First Attempt Just Used Matplotlib"
   ]
  },
  {
   "cell_type": "code",
   "execution_count": 332,
   "metadata": {
    "collapsed": false
   },
   "outputs": [
    {
     "data": {
      "image/png": "[encoded data removed]",
      "text/plain": [
       "<matplotlib.figure.Figure at 0x14cec78d0>"
      ]
     },
     "metadata": {},
     "output_type": "display_data"
    }
   ],
   "source": [
    "#https://plot.ly/matplotlib/bar-charts/\n",
    "N = len(bar_y)\n",
    "bar_y = [35659, 431374, 225422, 193897, 166258, 125571, 51501, 51615, 134861, \n",
    "         104626, 69961, 143409, 141339, 191626, 91545, 97841]\n",
    "bar_x = range(N)\n",
    "width = 1/1.5\n",
    "plt.title(\"Book Token Counts\")\n",
    "plt.bar(bar_x, bar_y, width, color=\"red\");"
   ]
  },
  {
   "cell_type": "markdown",
   "metadata": {},
   "source": [
    "### Next Was Using a Data Frame to Get Better Labeling"
   ]
  },
  {
   "cell_type": "code",
   "execution_count": 250,
   "metadata": {
    "collapsed": true
   },
   "outputs": [],
   "source": [
    "d = {'acc': 35659, 'dc': 431374, 'ge': 225422, 'ot': 193897, 'atotc': 166258,\n",
    "'aosh': 125571, 'asis': 51501, 'tsof': 51615, 'rosh': 134861, 'mosh': 104626,\n",
    "'hotb': 69961, 'pap': 143409, 'sas': 141339, 'emma': 191626, 'na': 91545, 'persuasion': 97841}"
   ]
  },
  {
   "cell_type": "code",
   "execution_count": 252,
   "metadata": {
    "collapsed": true
   },
   "outputs": [],
   "source": [
    "authors = np.array([\"dickens\", \"doyle\", \"doyle\", \"dickens\", \"dickens\", \"austen\", \"dickens\", \"doyle\", \n",
    "                   \"doyle\", \"austen\", \"dickens\", \"austen\", \"austen\", \"doyle\", \"austen\", \"doyle\"])"
   ]
  },
  {
   "cell_type": "code",
   "execution_count": 253,
   "metadata": {
    "collapsed": false
   },
   "outputs": [
    {
     "data": {
      "text/html": [
       "<div>\n",
       "<table border=\"1\" class=\"dataframe\">\n",
       "  <thead>\n",
       "    <tr style=\"text-align: right;\">\n",
       "      <th></th>\n",
       "      <th>length</th>\n",
       "      <th>author</th>\n",
       "    </tr>\n",
       "  </thead>\n",
       "  <tbody>\n",
       "    <tr>\n",
       "      <th>acc</th>\n",
       "      <td>35659</td>\n",
       "      <td>dickens</td>\n",
       "    </tr>\n",
       "    <tr>\n",
       "      <th>aosh</th>\n",
       "      <td>125571</td>\n",
       "      <td>doyle</td>\n",
       "    </tr>\n",
       "    <tr>\n",
       "      <th>asis</th>\n",
       "      <td>51501</td>\n",
       "      <td>doyle</td>\n",
       "    </tr>\n",
       "    <tr>\n",
       "      <th>atotc</th>\n",
       "      <td>166258</td>\n",
       "      <td>dickens</td>\n",
       "    </tr>\n",
       "    <tr>\n",
       "      <th>dc</th>\n",
       "      <td>431374</td>\n",
       "      <td>dickens</td>\n",
       "    </tr>\n",
       "    <tr>\n",
       "      <th>emma</th>\n",
       "      <td>191626</td>\n",
       "      <td>austen</td>\n",
       "    </tr>\n",
       "    <tr>\n",
       "      <th>ge</th>\n",
       "      <td>225422</td>\n",
       "      <td>dickens</td>\n",
       "    </tr>\n",
       "    <tr>\n",
       "      <th>hotb</th>\n",
       "      <td>69961</td>\n",
       "      <td>doyle</td>\n",
       "    </tr>\n",
       "    <tr>\n",
       "      <th>mosh</th>\n",
       "      <td>104626</td>\n",
       "      <td>doyle</td>\n",
       "    </tr>\n",
       "    <tr>\n",
       "      <th>na</th>\n",
       "      <td>91545</td>\n",
       "      <td>austen</td>\n",
       "    </tr>\n",
       "    <tr>\n",
       "      <th>ot</th>\n",
       "      <td>193897</td>\n",
       "      <td>dickens</td>\n",
       "    </tr>\n",
       "    <tr>\n",
       "      <th>pap</th>\n",
       "      <td>143409</td>\n",
       "      <td>austen</td>\n",
       "    </tr>\n",
       "    <tr>\n",
       "      <th>persuasion</th>\n",
       "      <td>97841</td>\n",
       "      <td>austen</td>\n",
       "    </tr>\n",
       "    <tr>\n",
       "      <th>rosh</th>\n",
       "      <td>134861</td>\n",
       "      <td>doyle</td>\n",
       "    </tr>\n",
       "    <tr>\n",
       "      <th>sas</th>\n",
       "      <td>141339</td>\n",
       "      <td>austen</td>\n",
       "    </tr>\n",
       "    <tr>\n",
       "      <th>tsof</th>\n",
       "      <td>51615</td>\n",
       "      <td>doyle</td>\n",
       "    </tr>\n",
       "  </tbody>\n",
       "</table>\n",
       "</div>"
      ],
      "text/plain": [
       "            length   author\n",
       "acc          35659  dickens\n",
       "aosh        125571    doyle\n",
       "asis         51501    doyle\n",
       "atotc       166258  dickens\n",
       "dc          431374  dickens\n",
       "emma        191626   austen\n",
       "ge          225422  dickens\n",
       "hotb         69961    doyle\n",
       "mosh        104626    doyle\n",
       "na           91545   austen\n",
       "ot          193897  dickens\n",
       "pap         143409   austen\n",
       "persuasion   97841   austen\n",
       "rosh        134861    doyle\n",
       "sas         141339   austen\n",
       "tsof         51615    doyle"
      ]
     },
     "execution_count": 253,
     "metadata": {},
     "output_type": "execute_result"
    }
   ],
   "source": [
    "length_Series = pd.Series(d)\n",
    "mini_df = pd.DataFrame(length_Series)\n",
    "mini_df.rename(columns={0: 'length'}, inplace=True)\n",
    "mini_df['author'] = authors\n",
    "mini_df"
   ]
  },
  {
   "cell_type": "markdown",
   "metadata": {},
   "source": [
    "### A Much Cleaner-Looking Graph"
   ]
  },
  {
   "cell_type": "code",
   "execution_count": 254,
   "metadata": {
    "collapsed": false,
    "scrolled": true
   },
   "outputs": [
    {
     "data": {
      "image/png": "[encoded data removed]",
      "text/plain": [
       "<matplotlib.figure.Figure at 0x1587e4350>"
      ]
     },
     "metadata": {},
     "output_type": "display_data"
    }
   ],
   "source": [
    "mini_df['length'].plot(kind='bar');\n",
    "plt.title(\"Book Token Counts\");"
   ]
  },
  {
   "cell_type": "markdown",
   "metadata": {},
   "source": [
    "### Pie Chart"
   ]
  },
  {
   "cell_type": "code",
   "execution_count": 256,
   "metadata": {
    "collapsed": false
   },
   "outputs": [
    {
     "data": {
      "image/png": "[encoded data removed]",
      "text/plain": [
       "<matplotlib.figure.Figure at 0x158806d90>"
      ]
     },
     "metadata": {},
     "output_type": "display_data"
    }
   ],
   "source": [
    "# https://pythonspot.com/matplotlib-pie-chart/\n",
    "\n",
    "labels = 'Austen', 'Dickens', 'Doyle'\n",
    "sizes = [austen_total, dickens_total, doyle_total]\n",
    "colors = ['gold', 'red', 'lightskyblue']\n",
    " \n",
    "plt.figure(figsize = (6,6))\n",
    "\n",
    "plt.pie(sizes, labels=labels, colors=colors,\n",
    "        autopct='%1.1f%%', shadow=True, startangle=140)\n",
    "\n",
    "# http://stackoverflow.com/questions/12750355/python-matplotlib-figure-title-overlaps-axes-label-when-using-twiny\n",
    "plt.title(\"Percent of Data per Author\", y=1.1)\n",
    "plt.axis('equal')\n",
    "plt.show()"
   ]
  },
  {
   "cell_type": "markdown",
   "metadata": {},
   "source": [
    "### Chunking my Books"
   ]
  },
  {
   "cell_type": "code",
   "execution_count": 272,
   "metadata": {
    "collapsed": true
   },
   "outputs": [],
   "source": [
    "#http://stackoverflow.com/questions/312443/how-do-you-split-a-list-into-evenly-sized-chunks-in-python\n",
    "def chunks(l, n):\n",
    "    n = max(1, n)\n",
    "    return [l[i:i + n] for i in range(0, len(l), n)]"
   ]
  },
  {
   "cell_type": "code",
   "execution_count": 273,
   "metadata": {
    "collapsed": false
   },
   "outputs": [],
   "source": [
    "acc_chunks = chunks(acc, 5000)\n",
    "dc_chunks = chunks(dc, 5000)\n",
    "ge_chunks = chunks(ge, 5000)\n",
    "ot_chunks = chunks(ot, 5000)\n",
    "atotc_chunks = chunks(atotc, 5000)\n",
    "aosh_chunks = chunks(aosh, 5000)\n",
    "asis_chunks = chunks(asis, 5000)\n",
    "tsof_chunks = chunks(tsof, 5000)\n",
    "rosh_chunks = chunks(rosh, 5000)\n",
    "mosh_chunks = chunks(mosh, 5000)\n",
    "hotb_chunks = chunks(hotb, 5000)\n",
    "pap_chunks = chunks(pap_t, 5000)\n",
    "sas_chunks = chunks(sas_t, 5000)\n",
    "emma_chunks = chunks(emma_t, 5000)\n",
    "na_chunks = chunks(na_t, 5000)\n",
    "persuasion_chunks = chunks(persuasion_t, 5000)"
   ]
  },
  {
   "cell_type": "code",
   "execution_count": 274,
   "metadata": {
    "collapsed": false
   },
   "outputs": [],
   "source": [
    "acc_chunks = acc_chunks[0:len(acc_chunks)-1]\n",
    "dc_chunks = dc_chunks[0:len(dc_chunks)-1]\n",
    "ge_chunks = ge_chunks[0:len(ge_chunks)-1]\n",
    "ot_chunks = ot_chunks[0:len(ot_chunks)-1]\n",
    "atotc_chunks = atotc_chunks[0:len(atotc_chunks)-1]\n",
    "aosh_chunks = aosh_chunks[0:25]\n",
    "asis_chunks = asis_chunks[0:len(asis_chunks)-1]\n",
    "tsof_chunks = tsof_chunks[0:len(tsof_chunks)-1]\n",
    "rosh_chunks = rosh_chunks[0:len(rosh_chunks)-1]\n",
    "mosh_chunks = mosh_chunks[0:len(mosh_chunks)-1]\n",
    "hotb_chunks = hotb_chunks[0:len(hotb_chunks)-1]\n",
    "pap_chunks = pap_chunks[0:len(pap_chunks)-1]\n",
    "sas_chunks = sas_chunks[0:len(sas_chunks)-1]\n",
    "emma_chunks = emma_chunks[0:len(emma_chunks)-1] \n",
    "na_chunks = na_chunks[0:len(na_chunks)-1]\n",
    "persuasion_chunks = persuasion_chunks[0:len(persuasion_chunks)-1]"
   ]
  },
  {
   "cell_type": "markdown",
   "metadata": {},
   "source": [
    "### Scoping the Chunks and Creating My 'y'"
   ]
  },
  {
   "cell_type": "code",
   "execution_count": 275,
   "metadata": {
    "collapsed": false
   },
   "outputs": [
    {
     "name": "stdout",
     "output_type": "stream",
     "text": [
      "444\n"
     ]
    }
   ],
   "source": [
    "total_chunks = acc_chunks + dc_chunks + ge_chunks + ot_chunks + atotc_chunks + aosh_chunks + asis_chunks + tsof_chunks + rosh_chunks + mosh_chunks + hotb_chunks + pap_chunks + sas_chunks + emma_chunks + na_chunks + persuasion_chunks\n",
    "print len(total_chunks)\n",
    "total_chunks_arr = np.asarray(total_chunks)"
   ]
  },
  {
   "cell_type": "code",
   "execution_count": 276,
   "metadata": {
    "collapsed": false
   },
   "outputs": [
    {
     "data": {
      "text/plain": [
       "104"
      ]
     },
     "execution_count": 276,
     "metadata": {},
     "output_type": "execute_result"
    }
   ],
   "source": [
    "len(aosh_chunks + asis_chunks + tsof_chunks + rosh_chunks + mosh_chunks + hotb_chunks)"
   ]
  },
  {
   "cell_type": "code",
   "execution_count": 277,
   "metadata": {
    "collapsed": false
   },
   "outputs": [
    {
     "data": {
      "text/plain": [
       "209"
      ]
     },
     "execution_count": 277,
     "metadata": {},
     "output_type": "execute_result"
    }
   ],
   "source": [
    "len(acc_chunks + dc_chunks + ge_chunks + ot_chunks + atotc_chunks)"
   ]
  },
  {
   "cell_type": "code",
   "execution_count": 278,
   "metadata": {
    "collapsed": false
   },
   "outputs": [
    {
     "data": {
      "text/plain": [
       "131"
      ]
     },
     "execution_count": 278,
     "metadata": {},
     "output_type": "execute_result"
    }
   ],
   "source": [
    "len(pap_chunks + sas_chunks + emma_chunks + na_chunks + persuasion_chunks)"
   ]
  },
  {
   "cell_type": "code",
   "execution_count": 279,
   "metadata": {
    "collapsed": false
   },
   "outputs": [
    {
     "data": {
      "text/plain": [
       "444"
      ]
     },
     "execution_count": 279,
     "metadata": {},
     "output_type": "execute_result"
    }
   ],
   "source": [
    "len(total_chunks_arr)"
   ]
  },
  {
   "cell_type": "code",
   "execution_count": 280,
   "metadata": {
    "collapsed": false
   },
   "outputs": [],
   "source": [
    "zeros = np.zeros(209)"
   ]
  },
  {
   "cell_type": "code",
   "execution_count": 281,
   "metadata": {
    "collapsed": true
   },
   "outputs": [],
   "source": [
    "ones = np.ones(104)"
   ]
  },
  {
   "cell_type": "code",
   "execution_count": 282,
   "metadata": {
    "collapsed": false
   },
   "outputs": [],
   "source": [
    "twos = np.array([2]*131)"
   ]
  },
  {
   "cell_type": "code",
   "execution_count": 283,
   "metadata": {
    "collapsed": false
   },
   "outputs": [
    {
     "name": "stdout",
     "output_type": "stream",
     "text": [
      "[ 0.  0.  0.  0.  0.  0.  0.  0.  0.  0.  0.  0.  0.  0.  0.  0.  0.  0.\n",
      "  0.  0.  0.  0.  0.  0.  0.  0.  0.  0.  0.  0.  0.  0.  0.  0.  0.  0.\n",
      "  0.  0.  0.  0.  0.  0.  0.  0.  0.  0.  0.  0.  0.  0.  0.  0.  0.  0.\n",
      "  0.  0.  0.  0.  0.  0.  0.  0.  0.  0.  0.  0.  0.  0.  0.  0.  0.  0.\n",
      "  0.  0.  0.  0.  0.  0.  0.  0.  0.  0.  0.  0.  0.  0.  0.  0.  0.  0.\n",
      "  0.  0.  0.  0.  0.  0.  0.  0.  0.  0.  0.  0.  0.  0.  0.  0.  0.  0.\n",
      "  0.  0.  0.  0.  0.  0.  0.  0.  0.  0.  0.  0.  0.  0.  0.  0.  0.  0.\n",
      "  0.  0.  0.  0.  0.  0.  0.  0.  0.  0.  0.  0.  0.  0.  0.  0.  0.  0.\n",
      "  0.  0.  0.  0.  0.  0.  0.  0.  0.  0.  0.  0.  0.  0.  0.  0.  0.  0.\n",
      "  0.  0.  0.  0.  0.  0.  0.  0.  0.  0.  0.  0.  0.  0.  0.  0.  0.  0.\n",
      "  0.  0.  0.  0.  0.  0.  0.  0.  0.  0.  0.  0.  0.  0.  0.  0.  0.  0.\n",
      "  0.  0.  0.  0.  0.  0.  0.  0.  0.  0.  0.  1.  1.  1.  1.  1.  1.  1.\n",
      "  1.  1.  1.  1.  1.  1.  1.  1.  1.  1.  1.  1.  1.  1.  1.  1.  1.  1.\n",
      "  1.  1.  1.  1.  1.  1.  1.  1.  1.  1.  1.  1.  1.  1.  1.  1.  1.  1.\n",
      "  1.  1.  1.  1.  1.  1.  1.  1.  1.  1.  1.  1.  1.  1.  1.  1.  1.  1.\n",
      "  1.  1.  1.  1.  1.  1.  1.  1.  1.  1.  1.  1.  1.  1.  1.  1.  1.  1.\n",
      "  1.  1.  1.  1.  1.  1.  1.  1.  1.  1.  1.  1.  1.  1.  1.  1.  1.  1.\n",
      "  1.  1.  1.  1.  1.  1.  1.  2.  2.  2.  2.  2.  2.  2.  2.  2.  2.  2.\n",
      "  2.  2.  2.  2.  2.  2.  2.  2.  2.  2.  2.  2.  2.  2.  2.  2.  2.  2.\n",
      "  2.  2.  2.  2.  2.  2.  2.  2.  2.  2.  2.  2.  2.  2.  2.  2.  2.  2.\n",
      "  2.  2.  2.  2.  2.  2.  2.  2.  2.  2.  2.  2.  2.  2.  2.  2.  2.  2.\n",
      "  2.  2.  2.  2.  2.  2.  2.  2.  2.  2.  2.  2.  2.  2.  2.  2.  2.  2.\n",
      "  2.  2.  2.  2.  2.  2.  2.  2.  2.  2.  2.  2.  2.  2.  2.  2.  2.  2.\n",
      "  2.  2.  2.  2.  2.  2.  2.  2.  2.  2.  2.  2.  2.  2.  2.  2.  2.  2.\n",
      "  2.  2.  2.  2.  2.  2.  2.  2.  2.  2.  2.  2.]\n"
     ]
    },
    {
     "data": {
      "text/plain": [
       "444"
      ]
     },
     "execution_count": 283,
     "metadata": {},
     "output_type": "execute_result"
    }
   ],
   "source": [
    "y = np.concatenate((zeros, ones, twos))\n",
    "print y\n",
    "len(y)"
   ]
  },
  {
   "cell_type": "markdown",
   "metadata": {},
   "source": [
    "### Re-Joining the Tokens for the Vectorizer"
   ]
  },
  {
   "cell_type": "code",
   "execution_count": 284,
   "metadata": {
    "collapsed": true
   },
   "outputs": [],
   "source": [
    "def join_tokens(lst):\n",
    "    new_list = []\n",
    "    for chunk in lst:\n",
    "        new_chunk = \" \".join(chunk)\n",
    "        new_list.append(new_chunk)\n",
    "    return new_list"
   ]
  },
  {
   "cell_type": "code",
   "execution_count": 285,
   "metadata": {
    "collapsed": false
   },
   "outputs": [],
   "source": [
    "joined_chunks = join_tokens(total_chunks)"
   ]
  },
  {
   "cell_type": "code",
   "execution_count": 286,
   "metadata": {
    "collapsed": false
   },
   "outputs": [
    {
     "data": {
      "text/plain": [
       "444"
      ]
     },
     "execution_count": 286,
     "metadata": {},
     "output_type": "execute_result"
    }
   ],
   "source": [
    "len(joined_chunks)"
   ]
  },
  {
   "cell_type": "markdown",
   "metadata": {},
   "source": [
    "## Vectorizing my Data"
   ]
  },
  {
   "cell_type": "code",
   "execution_count": 93,
   "metadata": {
    "collapsed": false
   },
   "outputs": [],
   "source": [
    "vectorizer = TfidfVectorizer(stop_words='english')\n",
    "tfidf = vectorizer.fit_transform(joined_chunks)"
   ]
  },
  {
   "cell_type": "code",
   "execution_count": 94,
   "metadata": {
    "collapsed": false
   },
   "outputs": [
    {
     "data": {
      "text/plain": [
       "<444x27980 sparse matrix of type '<type 'numpy.float64'>'\n",
       "\twith 412916 stored elements in Compressed Sparse Row format>"
      ]
     },
     "execution_count": 94,
     "metadata": {},
     "output_type": "execute_result"
    }
   ],
   "source": [
    "tfidf"
   ]
  },
  {
   "cell_type": "code",
   "execution_count": 164,
   "metadata": {
    "collapsed": false
   },
   "outputs": [
    {
     "data": {
      "text/plain": [
       "scipy.sparse.csr.csr_matrix"
      ]
     },
     "execution_count": 164,
     "metadata": {},
     "output_type": "execute_result"
    }
   ],
   "source": [
    "type(tfidf)"
   ]
  },
  {
   "cell_type": "code",
   "execution_count": 95,
   "metadata": {
    "collapsed": false
   },
   "outputs": [
    {
     "data": {
      "text/plain": [
       "(444, 27980)"
      ]
     },
     "execution_count": 95,
     "metadata": {},
     "output_type": "execute_result"
    }
   ],
   "source": [
    "tfidf.shape"
   ]
  },
  {
   "cell_type": "code",
   "execution_count": 96,
   "metadata": {
    "collapsed": false
   },
   "outputs": [],
   "source": [
    "tfidf_real = tfidf.todense()"
   ]
  },
  {
   "cell_type": "code",
   "execution_count": 97,
   "metadata": {
    "collapsed": false
   },
   "outputs": [
    {
     "data": {
      "text/plain": [
       "(444, 27980)"
      ]
     },
     "execution_count": 97,
     "metadata": {},
     "output_type": "execute_result"
    }
   ],
   "source": [
    "tfidf_real.shape"
   ]
  },
  {
   "cell_type": "code",
   "execution_count": 98,
   "metadata": {
    "collapsed": false
   },
   "outputs": [
    {
     "data": {
      "text/plain": [
       "numpy.matrixlib.defmatrix.matrix"
      ]
     },
     "execution_count": 98,
     "metadata": {},
     "output_type": "execute_result"
    }
   ],
   "source": [
    "type(tfidf_real)"
   ]
  },
  {
   "cell_type": "code",
   "execution_count": 288,
   "metadata": {
    "collapsed": false
   },
   "outputs": [
    {
     "data": {
      "text/html": [
       "<div>\n",
       "<table border=\"1\" class=\"dataframe\">\n",
       "  <thead>\n",
       "    <tr style=\"text-align: right;\">\n",
       "      <th></th>\n",
       "      <th>000</th>\n",
       "      <th>10</th>\n",
       "      <th>100</th>\n",
       "      <th>1000</th>\n",
       "      <th>10s</th>\n",
       "      <th>10th</th>\n",
       "      <th>11</th>\n",
       "      <th>1100</th>\n",
       "      <th>117</th>\n",
       "      <th>117th</th>\n",
       "      <th>...</th>\n",
       "      <th>zealously</th>\n",
       "      <th>zenith</th>\n",
       "      <th>zero</th>\n",
       "      <th>zest</th>\n",
       "      <th>zigzag</th>\n",
       "      <th>zigzagged</th>\n",
       "      <th>zigzags</th>\n",
       "      <th>zion</th>\n",
       "      <th>zoo</th>\n",
       "      <th>zoology</th>\n",
       "    </tr>\n",
       "  </thead>\n",
       "  <tbody>\n",
       "    <tr>\n",
       "      <th>0</th>\n",
       "      <td>0</td>\n",
       "      <td>0</td>\n",
       "      <td>0</td>\n",
       "      <td>0</td>\n",
       "      <td>0</td>\n",
       "      <td>0</td>\n",
       "      <td>0</td>\n",
       "      <td>0</td>\n",
       "      <td>0</td>\n",
       "      <td>0</td>\n",
       "      <td>...</td>\n",
       "      <td>0</td>\n",
       "      <td>0</td>\n",
       "      <td>0</td>\n",
       "      <td>0</td>\n",
       "      <td>0</td>\n",
       "      <td>0</td>\n",
       "      <td>0</td>\n",
       "      <td>0</td>\n",
       "      <td>0</td>\n",
       "      <td>0</td>\n",
       "    </tr>\n",
       "    <tr>\n",
       "      <th>1</th>\n",
       "      <td>0</td>\n",
       "      <td>0</td>\n",
       "      <td>0</td>\n",
       "      <td>0</td>\n",
       "      <td>0</td>\n",
       "      <td>0</td>\n",
       "      <td>0</td>\n",
       "      <td>0</td>\n",
       "      <td>0</td>\n",
       "      <td>0</td>\n",
       "      <td>...</td>\n",
       "      <td>0</td>\n",
       "      <td>0</td>\n",
       "      <td>0</td>\n",
       "      <td>0</td>\n",
       "      <td>0</td>\n",
       "      <td>0</td>\n",
       "      <td>0</td>\n",
       "      <td>0</td>\n",
       "      <td>0</td>\n",
       "      <td>0</td>\n",
       "    </tr>\n",
       "    <tr>\n",
       "      <th>2</th>\n",
       "      <td>0</td>\n",
       "      <td>0</td>\n",
       "      <td>0</td>\n",
       "      <td>0</td>\n",
       "      <td>0</td>\n",
       "      <td>0</td>\n",
       "      <td>0</td>\n",
       "      <td>0</td>\n",
       "      <td>0</td>\n",
       "      <td>0</td>\n",
       "      <td>...</td>\n",
       "      <td>0</td>\n",
       "      <td>0</td>\n",
       "      <td>0</td>\n",
       "      <td>0</td>\n",
       "      <td>0</td>\n",
       "      <td>0</td>\n",
       "      <td>0</td>\n",
       "      <td>0</td>\n",
       "      <td>0</td>\n",
       "      <td>0</td>\n",
       "    </tr>\n",
       "    <tr>\n",
       "      <th>3</th>\n",
       "      <td>0</td>\n",
       "      <td>0</td>\n",
       "      <td>0</td>\n",
       "      <td>0</td>\n",
       "      <td>0</td>\n",
       "      <td>0</td>\n",
       "      <td>0</td>\n",
       "      <td>0</td>\n",
       "      <td>0</td>\n",
       "      <td>0</td>\n",
       "      <td>...</td>\n",
       "      <td>0</td>\n",
       "      <td>0</td>\n",
       "      <td>0</td>\n",
       "      <td>0</td>\n",
       "      <td>0</td>\n",
       "      <td>0</td>\n",
       "      <td>0</td>\n",
       "      <td>0</td>\n",
       "      <td>0</td>\n",
       "      <td>0</td>\n",
       "    </tr>\n",
       "    <tr>\n",
       "      <th>4</th>\n",
       "      <td>0</td>\n",
       "      <td>0</td>\n",
       "      <td>0</td>\n",
       "      <td>0</td>\n",
       "      <td>0</td>\n",
       "      <td>0</td>\n",
       "      <td>0</td>\n",
       "      <td>0</td>\n",
       "      <td>0</td>\n",
       "      <td>0</td>\n",
       "      <td>...</td>\n",
       "      <td>0</td>\n",
       "      <td>0</td>\n",
       "      <td>0</td>\n",
       "      <td>0</td>\n",
       "      <td>0</td>\n",
       "      <td>0</td>\n",
       "      <td>0</td>\n",
       "      <td>0</td>\n",
       "      <td>0</td>\n",
       "      <td>0</td>\n",
       "    </tr>\n",
       "  </tbody>\n",
       "</table>\n",
       "<p>5 rows × 27980 columns</p>\n",
       "</div>"
      ],
      "text/plain": [
       "   000  10  100  1000  10s  10th  11  1100  117  117th   ...     zealously  \\\n",
       "0    0   0    0     0    0     0   0     0    0      0   ...             0   \n",
       "1    0   0    0     0    0     0   0     0    0      0   ...             0   \n",
       "2    0   0    0     0    0     0   0     0    0      0   ...             0   \n",
       "3    0   0    0     0    0     0   0     0    0      0   ...             0   \n",
       "4    0   0    0     0    0     0   0     0    0      0   ...             0   \n",
       "\n",
       "   zenith  zero  zest  zigzag  zigzagged  zigzags  zion  zoo  zoology  \n",
       "0       0     0     0       0          0        0     0    0        0  \n",
       "1       0     0     0       0          0        0     0    0        0  \n",
       "2       0     0     0       0          0        0     0    0        0  \n",
       "3       0     0     0       0          0        0     0    0        0  \n",
       "4       0     0     0       0          0        0     0    0        0  \n",
       "\n",
       "[5 rows x 27980 columns]"
      ]
     },
     "execution_count": 288,
     "metadata": {},
     "output_type": "execute_result"
    }
   ],
   "source": [
    "df = pd.DataFrame(tfidf_real, columns=vectorizer.get_feature_names())\n",
    "df.head()"
   ]
  },
  {
   "cell_type": "code",
   "execution_count": 294,
   "metadata": {
    "collapsed": false
   },
   "outputs": [],
   "source": [
    "X = tfidf_real"
   ]
  },
  {
   "cell_type": "code",
   "execution_count": 295,
   "metadata": {
    "collapsed": false
   },
   "outputs": [
    {
     "data": {
      "text/plain": [
       "(444, 27980)"
      ]
     },
     "execution_count": 295,
     "metadata": {},
     "output_type": "execute_result"
    }
   ],
   "source": [
    "X.shape"
   ]
  },
  {
   "cell_type": "markdown",
   "metadata": {},
   "source": [
    "### Train/Test Splitting"
   ]
  },
  {
   "cell_type": "code",
   "execution_count": 321,
   "metadata": {
    "collapsed": true
   },
   "outputs": [],
   "source": [
    "X_train, X_test, y_train, y_test = train_test_split(X,y)"
   ]
  },
  {
   "cell_type": "code",
   "execution_count": 322,
   "metadata": {
    "collapsed": false
   },
   "outputs": [
    {
     "name": "stdout",
     "output_type": "stream",
     "text": [
      "111\n",
      "333\n"
     ]
    }
   ],
   "source": [
    "print len(X_test)\n",
    "print len(X_train)"
   ]
  },
  {
   "cell_type": "code",
   "execution_count": 323,
   "metadata": {
    "collapsed": false
   },
   "outputs": [
    {
     "data": {
      "text/plain": [
       "(333, 27980)"
      ]
     },
     "execution_count": 323,
     "metadata": {},
     "output_type": "execute_result"
    }
   ],
   "source": [
    "X_train.shape"
   ]
  },
  {
   "cell_type": "markdown",
   "metadata": {},
   "source": [
    "## Grid-Searching for the Parameters (Took a While)"
   ]
  },
  {
   "cell_type": "code",
   "execution_count": 259,
   "metadata": {
    "collapsed": false
   },
   "outputs": [
    {
     "name": "stdout",
     "output_type": "stream",
     "text": [
      "Fitting 3 folds for each of 30 candidates, totalling 90 fits\n"
     ]
    },
    {
     "name": "stderr",
     "output_type": "stream",
     "text": [
      "[Parallel(n_jobs=-1)]: Done   1 jobs       | elapsed:    6.9s\n",
      "[Parallel(n_jobs=-1)]: Done  50 jobs       | elapsed:  1.3min\n",
      "[Parallel(n_jobs=-1)]: Done  84 out of  90 | elapsed:  2.0min remaining:    8.7s\n",
      "[Parallel(n_jobs=-1)]: Done  90 out of  90 | elapsed:  2.2min finished\n"
     ]
    },
    {
     "name": "stdout",
     "output_type": "stream",
     "text": [
      "best parameters: {'kernel': 'linear', 'C': 1.0, 'shrinking': True}\n"
     ]
    }
   ],
   "source": [
    "svm_svc_grid = {'C': [0.25, .5, 1.0, 1.5, 1.75],\n",
    "                          'kernel': ['linear', 'poly', 'rbf'],\n",
    "                          'shrinking': [True, False]}\n",
    "\n",
    "svm_svc_gridsearch = GridSearchCV(svm.SVC(),\n",
    "                             svm_svc_grid,\n",
    "                             n_jobs=-1,\n",
    "                             verbose=True,\n",
    "                             scoring='mean_squared_error')\n",
    "\n",
    "svm_svc_gridsearch.fit(X_train, y_train)\n",
    "\n",
    "print \"best parameters:\", svm_svc_gridsearch.best_params_\n",
    "\n",
    "best_model = svm_svc_gridsearch.best_estimator_"
   ]
  },
  {
   "cell_type": "markdown",
   "metadata": {},
   "source": [
    "### Creating the Model"
   ]
  },
  {
   "cell_type": "code",
   "execution_count": 324,
   "metadata": {
    "collapsed": false
   },
   "outputs": [
    {
     "data": {
      "text/plain": [
       "SVC(C=1.0, cache_size=200, class_weight=None, coef0=0.0, degree=3, gamma=0.0,\n",
       "  kernel='linear', max_iter=-1, probability=False, random_state=None,\n",
       "  shrinking=True, tol=0.001, verbose=False)"
      ]
     },
     "execution_count": 324,
     "metadata": {},
     "output_type": "execute_result"
    }
   ],
   "source": [
    "model_four = svm.SVC(kernel='linear')\n",
    "model_four.fit(X_train, y_train)"
   ]
  },
  {
   "cell_type": "markdown",
   "metadata": {},
   "source": [
    "### It Again Appears Perfect..."
   ]
  },
  {
   "cell_type": "code",
   "execution_count": 327,
   "metadata": {
    "collapsed": false
   },
   "outputs": [
    {
     "data": {
      "text/plain": [
       "array([ 1.,  1.,  1.,  1.,  1.,  1.,  1.,  1.,  1.,  1.])"
      ]
     },
     "execution_count": 327,
     "metadata": {},
     "output_type": "execute_result"
    }
   ],
   "source": [
    "cross_val_score(model_four, X_train, y_train, cv=10)"
   ]
  },
  {
   "cell_type": "markdown",
   "metadata": {},
   "source": [
    "To probably no surprise, the model went perfect again in cross validation (and the test below), even with three books. At this point, I had set out what I had set out to do, run a model all the way through on multiple authors using their word choice, and it appeared this is not an avenue worth persuing on my own time in the future. The models overfit to the data, and would likely not be robust enough for the real world, or really that valuable at all. Although I would probably want to test future books in a vacuum as well, so it's not really fair to talk about the model's performance in the 'true' real-world."
   ]
  },
  {
   "cell_type": "code",
   "execution_count": 325,
   "metadata": {
    "collapsed": false,
    "scrolled": true
   },
   "outputs": [
    {
     "data": {
      "text/plain": [
       "1.0"
      ]
     },
     "execution_count": 325,
     "metadata": {},
     "output_type": "execute_result"
    }
   ],
   "source": [
    "model_four.score(X_test, y_test)"
   ]
  },
  {
   "cell_type": "code",
   "execution_count": 326,
   "metadata": {
    "collapsed": false
   },
   "outputs": [
    {
     "name": "stdout",
     "output_type": "stream",
     "text": [
      "             precision    recall  f1-score   support\n",
      "\n",
      "        0.0       1.00      1.00      1.00        62\n",
      "        1.0       1.00      1.00      1.00        25\n",
      "        2.0       1.00      1.00      1.00        24\n",
      "\n",
      "avg / total       1.00      1.00      1.00       111\n",
      "\n"
     ]
    }
   ],
   "source": [
    "print classification_report(y_test,model_four.predict(X_test))"
   ]
  },
  {
   "cell_type": "markdown",
   "metadata": {},
   "source": [
    "### One Imperfection from Literally My First Running of the Algorithm (A Week Ago)"
   ]
  },
  {
   "cell_type": "code",
   "execution_count": 114,
   "metadata": {
    "collapsed": false
   },
   "outputs": [
    {
     "name": "stdout",
     "output_type": "stream",
     "text": [
      "             precision    recall  f1-score   support\n",
      "\n",
      "        0.0       0.98      1.00      0.99        50\n",
      "        1.0       1.00      0.96      0.98        28\n",
      "        2.0       1.00      1.00      1.00        33\n",
      "\n",
      "avg / total       0.99      0.99      0.99       111\n",
      "\n"
     ]
    }
   ],
   "source": [
    "print classification_report(y_test,third_test.predict(X_test))"
   ]
  },
  {
   "cell_type": "markdown",
   "metadata": {},
   "source": [
    "### Investigating Important Words"
   ]
  },
  {
   "cell_type": "code",
   "execution_count": 261,
   "metadata": {
    "collapsed": false
   },
   "outputs": [
    {
     "data": {
      "text/plain": [
       "array([-0.0116846 , -0.04822312, -0.05030592, ..., -0.05280759,\n",
       "        0.        , -0.01234798])"
      ]
     },
     "execution_count": 261,
     "metadata": {},
     "output_type": "execute_result"
    }
   ],
   "source": [
    "three_book_importance = third_test.coef_[0]\n",
    "three_book_importance"
   ]
  },
  {
   "cell_type": "code",
   "execution_count": 120,
   "metadata": {
    "collapsed": false
   },
   "outputs": [
    {
     "data": {
      "text/plain": [
       "array([u'000', u'10', u'100', u'1000', u'10s', u'10th', u'11', u'1100',\n",
       "       u'117', u'117th', u'12', u'120', u'126b', u'129', u'12s', u'12th',\n",
       "       u'13', u'131', u'13th', u'14'], \n",
       "      dtype='<U29')"
      ]
     },
     "execution_count": 120,
     "metadata": {},
     "output_type": "execute_result"
    }
   ],
   "source": [
    "words = vectorizer.get_feature_names()\n",
    "words = np.asarray(words)\n",
    "words[:20]"
   ]
  },
  {
   "cell_type": "code",
   "execution_count": 263,
   "metadata": {
    "collapsed": false
   },
   "outputs": [
    {
     "data": {
      "text/plain": [
       "array([12206, 27151,  9734, 16080, 22047, 15238,  3524,  8007, 16129, 18578])"
      ]
     },
     "execution_count": 263,
     "metadata": {},
     "output_type": "execute_result"
    }
   ],
   "source": [
    "indices = three_book_importance.argsort()\n",
    "len(indices)\n",
    "indices[:10]"
   ]
  },
  {
   "cell_type": "code",
   "execution_count": 264,
   "metadata": {
    "collapsed": false
   },
   "outputs": [
    {
     "data": {
      "text/plain": [
       "-2.5983170279001326"
      ]
     },
     "execution_count": 264,
     "metadata": {},
     "output_type": "execute_result"
    }
   ],
   "source": [
    "three_book_importance[12206]"
   ]
  },
  {
   "cell_type": "code",
   "execution_count": 329,
   "metadata": {
    "collapsed": false
   },
   "outputs": [
    {
     "data": {
      "text/plain": [
       "array([u'mr', u'joe', u'scrooge', u'oliver', u'micawber', u'steerforth',\n",
       "       u'aunt', u'bumble', u'herbert', u'traddles', u'lorry', u'fagin',\n",
       "       u'dora', u'doctor', u'replied', u'boy', u'monks', u'marquis',\n",
       "       u'said', u'peggotty', u'wemmick', u'defarge', u'brownlow', u'sikes',\n",
       "       u'agnes', u'copperfield', u'manette', u'jaggers', u'monsieur',\n",
       "       u'monseigneur', u'havisham', u'gentleman', u'dear', u'miss', u'jew',\n",
       "       u'compeyson', u'pip', u'drummle', u'jerry', u'coach', u'looked',\n",
       "       u'murdstone', u'darnay', u'tellson', u'giles', u'estella',\n",
       "       u'dartle', u'looking', u'like', u'madame', u'waiter', u'carton',\n",
       "       u'went', u'mother', u'larkins', u'lucie', u'prison', u'noah',\n",
       "       u'mrs', u'old', u'sea', u'rejoined', u'betsey', u'em', u'fang',\n",
       "       u'cruncher', u'mail', u'creakle', u'prisoner', u'passenger',\n",
       "       u'look', u'biddy', u'maylie', u'spenlow', u'stopped', u'home',\n",
       "       u'dick', u'wot', u'tears', u'mowcher', u'nephew', u'orlick',\n",
       "       u'mist', u'fountain', u'shop', u'harry', u'pross', u'brittles',\n",
       "       u'passengers', u'sydney', u'returned', u'ghost', u'trotwood',\n",
       "       u'people', u'wine', u'saint', u'flopson', u'stryver', u'love',\n",
       "       u'fur'], \n",
       "      dtype='<U29')"
      ]
     },
     "execution_count": 329,
     "metadata": {},
     "output_type": "execute_result"
    }
   ],
   "source": [
    "words[indices][::-1][:100]"
   ]
  },
  {
   "cell_type": "code",
   "execution_count": 330,
   "metadata": {
    "collapsed": false
   },
   "outputs": [
    {
     "data": {
      "text/plain": [
       "array([u'holmes', u'watson', u'ferrier', u'moor', u'sherlock', u'man',\n",
       "       u'brunton', u'drebber', u'morstan', u'police', u'dr', u'henry',\n",
       "       u'cab', u'barclay', u'sir', u'matter', u'jefferson', u'sholto',\n",
       "       u'musgrave', u'stangerson', u'barrymore', u'lestrade', u'case',\n",
       "       u'butler', u'lucy', u'hunter', u'room', u'colonel', u'inspector',\n",
       "       u'rucastle', u'coronet', u'facts', u'john', u'just', u'remarked',\n",
       "       u'stapleton', u'companion', u'simon', u'baskerville', u'answered',\n",
       "       u'shall', u'crime', u'mountains', u'sprang', u'major', u'treasure',\n",
       "       u'hall', u'baker', u'problem', u'stamford', u'blessington',\n",
       "       u'gregson', u'small', u'thaddeus', u'maid', u'train', u'singular',\n",
       "       u'west', u'test', u'paper', u'carruthers', u'mormon', u'st',\n",
       "       u'advertisement', u'wilson', u'lake', u'imagine', u'client',\n",
       "       u'godfrey', u'lawn', u'frankland', u'arthur', u'mormons', u'hardly',\n",
       "       u'mystery', u'appears', u'bartholomew', u'learned', u'cases',\n",
       "       u'window', u'lit', u'straker', u'gems', u'instant', u'end',\n",
       "       u'trevelyan', u'strange', u'inside', u'ritual', u'able',\n",
       "       u'importance', u'reached', u'tracey', u'coombe', u'station',\n",
       "       u'showed', u'fashion', u'charles', u'oak', u'disappearance'], \n",
       "      dtype='<U29')"
      ]
     },
     "execution_count": 330,
     "metadata": {},
     "output_type": "execute_result"
    }
   ],
   "source": [
    "words[indices][::1][:100]"
   ]
  },
  {
   "cell_type": "markdown",
   "metadata": {},
   "source": [
    "# Conclusions and Lessons Learned:"
   ]
  },
  {
   "cell_type": "markdown",
   "metadata": {},
   "source": [
    "Below are my final conclusions and lessons I discussed during my presentation. Ultimately, if I want to 'fingerprint' an author, I think considering just their texts themselves may not be the way to go. Instead, I want to look more towards features such as part of speech usage, sentence length, punctuation usage, number of named entities, etc. etc. I could go on for quite a while with ideas such as those, but the idea is to broaden and generalize what I want to do a bit more. I think an analysis of factors like this could yield some fascinating results, and it is definitely something I want to persue on my own time, perhaps as early as Christmas break. Ultimately, though, I set out to run a model from end to end using 'real' data, and I accomplished that fact. While it would have been fun to get 'cooler' or at least just a wider variety of results, what I did was certainly valuable in terms of helping me to realize what may or may not be important. And, if I had to guess, I suspect that's a lot of what 'working in the real world as a real data scientist' will be like - not always getting amazing or awesome results."
   ]
  },
  {
   "cell_type": "markdown",
   "metadata": {},
   "source": [
    ">1) I don't think word choice is the right angle to attack the problem from\n",
    "\n",
    ">2) In the future, I may investigate sentence construction, POS, etc.\n",
    "\n",
    ">3) Where I had to spend time was surprising - getting and cleaning the data took a long time\n",
    "\n",
    ">4) I also more fully appreciate starting with a simple model and then building my way up\n",
    "\n",
    ">5) I also gained a better appreciation for pipelining - I think my goal is to improve my workflow every big project\n",
    "\n",
    ">6) Getting help from any and all sources was great - it really helped to have other minds to talk with\n",
    "\n",
    ">BONUS) I learned encoding errors can actually wreak havoc"
   ]
  },
  {
   "cell_type": "code",
   "execution_count": null,
   "metadata": {
    "collapsed": true
   },
   "outputs": [],
   "source": []
  }
 ],
 "metadata": {
  "kernelspec": {
   "display_name": "Python 2",
   "language": "python",
   "name": "python2"
  },
  "language_info": {
   "codemirror_mode": {
    "name": "ipython",
    "version": 2
   },
   "file_extension": ".py",
   "mimetype": "text/x-python",
   "name": "python",
   "nbconvert_exporter": "python",
   "pygments_lexer": "ipython2",
   "version": "2.7.11"
  }
 },
 "nbformat": 4,
 "nbformat_minor": 0
}
